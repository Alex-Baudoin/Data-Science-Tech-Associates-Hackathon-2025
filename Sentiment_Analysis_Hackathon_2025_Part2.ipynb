{
  "metadata": {
    "kernelspec": {
      "language": "python",
      "display_name": "Python 3",
      "name": "python3"
    },
    "language_info": {
      "name": "python",
      "version": "3.11.11",
      "mimetype": "text/x-python",
      "codemirror_mode": {
        "name": "ipython",
        "version": 3
      },
      "pygments_lexer": "ipython3",
      "nbconvert_exporter": "python",
      "file_extension": ".py"
    },
    "kaggle": {
      "accelerator": "none",
      "dataSources": [
        {
          "sourceId": 11863480,
          "sourceType": "datasetVersion",
          "datasetId": 7454882
        }
      ],
      "dockerImageVersionId": 31040,
      "isInternetEnabled": true,
      "language": "python",
      "sourceType": "notebook",
      "isGpuEnabled": false
    },
    "colab": {
      "name": "Sentiment Analysis_Hackathon_2025_Part2",
      "provenance": []
    }
  },
  "nbformat_minor": 0,
  "nbformat": 4,
  "cells": [
    {
      "cell_type": "code",
      "source": [
        "#Installing the necessary library\n",
        "!pip install bertopic"
      ],
      "metadata": {
        "trusted": true,
        "execution": {
          "iopub.status.busy": "2025-05-18T21:44:27.824027Z",
          "iopub.execute_input": "2025-05-18T21:44:27.824475Z",
          "iopub.status.idle": "2025-05-18T21:45:53.305096Z",
          "shell.execute_reply.started": "2025-05-18T21:44:27.824448Z",
          "shell.execute_reply": "2025-05-18T21:45:53.303861Z"
        },
        "collapsed": true,
        "jupyter": {
          "outputs_hidden": true
        },
        "id": "U09XcCc_nPsa",
        "outputId": "85ad21a1-0ca9-4992-dd0e-3f8147d93844"
      },
      "outputs": [
        {
          "name": "stdout",
          "text": "Collecting bertopic\n  Downloading bertopic-0.17.0-py3-none-any.whl.metadata (23 kB)\nRequirement already satisfied: hdbscan>=0.8.29 in /usr/local/lib/python3.11/dist-packages (from bertopic) (0.8.40)\nRequirement already satisfied: numpy>=1.20.0 in /usr/local/lib/python3.11/dist-packages (from bertopic) (1.26.4)\nRequirement already satisfied: pandas>=1.1.5 in /usr/local/lib/python3.11/dist-packages (from bertopic) (2.2.3)\nRequirement already satisfied: plotly>=4.7.0 in /usr/local/lib/python3.11/dist-packages (from bertopic) (5.24.1)\nRequirement already satisfied: scikit-learn>=1.0 in /usr/local/lib/python3.11/dist-packages (from bertopic) (1.2.2)\nRequirement already satisfied: sentence-transformers>=0.4.1 in /usr/local/lib/python3.11/dist-packages (from bertopic) (3.4.1)\nRequirement already satisfied: tqdm>=4.41.1 in /usr/local/lib/python3.11/dist-packages (from bertopic) (4.67.1)\nRequirement already satisfied: umap-learn>=0.5.0 in /usr/local/lib/python3.11/dist-packages (from bertopic) (0.5.7)\nRequirement already satisfied: scipy>=1.0 in /usr/local/lib/python3.11/dist-packages (from hdbscan>=0.8.29->bertopic) (1.15.2)\nRequirement already satisfied: joblib>=1.0 in /usr/local/lib/python3.11/dist-packages (from hdbscan>=0.8.29->bertopic) (1.5.0)\nRequirement already satisfied: mkl_fft in /usr/local/lib/python3.11/dist-packages (from numpy>=1.20.0->bertopic) (1.3.8)\nRequirement already satisfied: mkl_random in /usr/local/lib/python3.11/dist-packages (from numpy>=1.20.0->bertopic) (1.2.4)\nRequirement already satisfied: mkl_umath in /usr/local/lib/python3.11/dist-packages (from numpy>=1.20.0->bertopic) (0.1.1)\nRequirement already satisfied: mkl in /usr/local/lib/python3.11/dist-packages (from numpy>=1.20.0->bertopic) (2025.1.0)\nRequirement already satisfied: tbb4py in /usr/local/lib/python3.11/dist-packages (from numpy>=1.20.0->bertopic) (2022.1.0)\nRequirement already satisfied: mkl-service in /usr/local/lib/python3.11/dist-packages (from numpy>=1.20.0->bertopic) (2.4.1)\nRequirement already satisfied: python-dateutil>=2.8.2 in /usr/local/lib/python3.11/dist-packages (from pandas>=1.1.5->bertopic) (2.9.0.post0)\nRequirement already satisfied: pytz>=2020.1 in /usr/local/lib/python3.11/dist-packages (from pandas>=1.1.5->bertopic) (2025.2)\nRequirement already satisfied: tzdata>=2022.7 in /usr/local/lib/python3.11/dist-packages (from pandas>=1.1.5->bertopic) (2025.2)\nRequirement already satisfied: tenacity>=6.2.0 in /usr/local/lib/python3.11/dist-packages (from plotly>=4.7.0->bertopic) (9.1.2)\nRequirement already satisfied: packaging in /usr/local/lib/python3.11/dist-packages (from plotly>=4.7.0->bertopic) (25.0)\nRequirement already satisfied: threadpoolctl>=2.0.0 in /usr/local/lib/python3.11/dist-packages (from scikit-learn>=1.0->bertopic) (3.6.0)\nRequirement already satisfied: transformers<5.0.0,>=4.41.0 in /usr/local/lib/python3.11/dist-packages (from sentence-transformers>=0.4.1->bertopic) (4.51.3)\nRequirement already satisfied: torch>=1.11.0 in /usr/local/lib/python3.11/dist-packages (from sentence-transformers>=0.4.1->bertopic) (2.6.0+cu124)\nRequirement already satisfied: huggingface-hub>=0.20.0 in /usr/local/lib/python3.11/dist-packages (from sentence-transformers>=0.4.1->bertopic) (0.31.1)\nRequirement already satisfied: Pillow in /usr/local/lib/python3.11/dist-packages (from sentence-transformers>=0.4.1->bertopic) (11.1.0)\nRequirement already satisfied: numba>=0.51.2 in /usr/local/lib/python3.11/dist-packages (from umap-learn>=0.5.0->bertopic) (0.60.0)\nRequirement already satisfied: pynndescent>=0.5 in /usr/local/lib/python3.11/dist-packages (from umap-learn>=0.5.0->bertopic) (0.5.13)\nRequirement already satisfied: filelock in /usr/local/lib/python3.11/dist-packages (from huggingface-hub>=0.20.0->sentence-transformers>=0.4.1->bertopic) (3.18.0)\nRequirement already satisfied: fsspec>=2023.5.0 in /usr/local/lib/python3.11/dist-packages (from huggingface-hub>=0.20.0->sentence-transformers>=0.4.1->bertopic) (2025.3.2)\nRequirement already satisfied: pyyaml>=5.1 in /usr/local/lib/python3.11/dist-packages (from huggingface-hub>=0.20.0->sentence-transformers>=0.4.1->bertopic) (6.0.2)\nRequirement already satisfied: requests in /usr/local/lib/python3.11/dist-packages (from huggingface-hub>=0.20.0->sentence-transformers>=0.4.1->bertopic) (2.32.3)\nRequirement already satisfied: typing-extensions>=3.7.4.3 in /usr/local/lib/python3.11/dist-packages (from huggingface-hub>=0.20.0->sentence-transformers>=0.4.1->bertopic) (4.13.2)\nRequirement already satisfied: hf-xet<2.0.0,>=1.1.0 in /usr/local/lib/python3.11/dist-packages (from huggingface-hub>=0.20.0->sentence-transformers>=0.4.1->bertopic) (1.1.0)\nRequirement already satisfied: llvmlite<0.44,>=0.43.0dev0 in /usr/local/lib/python3.11/dist-packages (from numba>=0.51.2->umap-learn>=0.5.0->bertopic) (0.43.0)\nRequirement already satisfied: six>=1.5 in /usr/local/lib/python3.11/dist-packages (from python-dateutil>=2.8.2->pandas>=1.1.5->bertopic) (1.17.0)\nRequirement already satisfied: networkx in /usr/local/lib/python3.11/dist-packages (from torch>=1.11.0->sentence-transformers>=0.4.1->bertopic) (3.4.2)\nRequirement already satisfied: jinja2 in /usr/local/lib/python3.11/dist-packages (from torch>=1.11.0->sentence-transformers>=0.4.1->bertopic) (3.1.6)\nRequirement already satisfied: nvidia-cuda-nvrtc-cu12==12.4.127 in /usr/local/lib/python3.11/dist-packages (from torch>=1.11.0->sentence-transformers>=0.4.1->bertopic) (12.4.127)\nRequirement already satisfied: nvidia-cuda-runtime-cu12==12.4.127 in /usr/local/lib/python3.11/dist-packages (from torch>=1.11.0->sentence-transformers>=0.4.1->bertopic) (12.4.127)\nRequirement already satisfied: nvidia-cuda-cupti-cu12==12.4.127 in /usr/local/lib/python3.11/dist-packages (from torch>=1.11.0->sentence-transformers>=0.4.1->bertopic) (12.4.127)\nCollecting nvidia-cudnn-cu12==9.1.0.70 (from torch>=1.11.0->sentence-transformers>=0.4.1->bertopic)\n  Downloading nvidia_cudnn_cu12-9.1.0.70-py3-none-manylinux2014_x86_64.whl.metadata (1.6 kB)\nCollecting nvidia-cublas-cu12==12.4.5.8 (from torch>=1.11.0->sentence-transformers>=0.4.1->bertopic)\n  Downloading nvidia_cublas_cu12-12.4.5.8-py3-none-manylinux2014_x86_64.whl.metadata (1.5 kB)\nCollecting nvidia-cufft-cu12==11.2.1.3 (from torch>=1.11.0->sentence-transformers>=0.4.1->bertopic)\n  Downloading nvidia_cufft_cu12-11.2.1.3-py3-none-manylinux2014_x86_64.whl.metadata (1.5 kB)\nCollecting nvidia-curand-cu12==10.3.5.147 (from torch>=1.11.0->sentence-transformers>=0.4.1->bertopic)\n  Downloading nvidia_curand_cu12-10.3.5.147-py3-none-manylinux2014_x86_64.whl.metadata (1.5 kB)\nCollecting nvidia-cusolver-cu12==11.6.1.9 (from torch>=1.11.0->sentence-transformers>=0.4.1->bertopic)\n  Downloading nvidia_cusolver_cu12-11.6.1.9-py3-none-manylinux2014_x86_64.whl.metadata (1.6 kB)\nCollecting nvidia-cusparse-cu12==12.3.1.170 (from torch>=1.11.0->sentence-transformers>=0.4.1->bertopic)\n  Downloading nvidia_cusparse_cu12-12.3.1.170-py3-none-manylinux2014_x86_64.whl.metadata (1.6 kB)\nRequirement already satisfied: nvidia-cusparselt-cu12==0.6.2 in /usr/local/lib/python3.11/dist-packages (from torch>=1.11.0->sentence-transformers>=0.4.1->bertopic) (0.6.2)\nRequirement already satisfied: nvidia-nccl-cu12==2.21.5 in /usr/local/lib/python3.11/dist-packages (from torch>=1.11.0->sentence-transformers>=0.4.1->bertopic) (2.21.5)\nRequirement already satisfied: nvidia-nvtx-cu12==12.4.127 in /usr/local/lib/python3.11/dist-packages (from torch>=1.11.0->sentence-transformers>=0.4.1->bertopic) (12.4.127)\nCollecting nvidia-nvjitlink-cu12==12.4.127 (from torch>=1.11.0->sentence-transformers>=0.4.1->bertopic)\n  Downloading nvidia_nvjitlink_cu12-12.4.127-py3-none-manylinux2014_x86_64.whl.metadata (1.5 kB)\nRequirement already satisfied: triton==3.2.0 in /usr/local/lib/python3.11/dist-packages (from torch>=1.11.0->sentence-transformers>=0.4.1->bertopic) (3.2.0)\nRequirement already satisfied: sympy==1.13.1 in /usr/local/lib/python3.11/dist-packages (from torch>=1.11.0->sentence-transformers>=0.4.1->bertopic) (1.13.1)\nRequirement already satisfied: mpmath<1.4,>=1.1.0 in /usr/local/lib/python3.11/dist-packages (from sympy==1.13.1->torch>=1.11.0->sentence-transformers>=0.4.1->bertopic) (1.3.0)\nRequirement already satisfied: regex!=2019.12.17 in /usr/local/lib/python3.11/dist-packages (from transformers<5.0.0,>=4.41.0->sentence-transformers>=0.4.1->bertopic) (2024.11.6)\nRequirement already satisfied: tokenizers<0.22,>=0.21 in /usr/local/lib/python3.11/dist-packages (from transformers<5.0.0,>=4.41.0->sentence-transformers>=0.4.1->bertopic) (0.21.1)\nRequirement already satisfied: safetensors>=0.4.3 in /usr/local/lib/python3.11/dist-packages (from transformers<5.0.0,>=4.41.0->sentence-transformers>=0.4.1->bertopic) (0.5.3)\nRequirement already satisfied: intel-openmp<2026,>=2024 in /usr/local/lib/python3.11/dist-packages (from mkl->numpy>=1.20.0->bertopic) (2024.2.0)\nRequirement already satisfied: tbb==2022.* in /usr/local/lib/python3.11/dist-packages (from mkl->numpy>=1.20.0->bertopic) (2022.1.0)\nRequirement already satisfied: tcmlib==1.* in /usr/local/lib/python3.11/dist-packages (from tbb==2022.*->mkl->numpy>=1.20.0->bertopic) (1.3.0)\nRequirement already satisfied: intel-cmplr-lib-rt in /usr/local/lib/python3.11/dist-packages (from mkl_umath->numpy>=1.20.0->bertopic) (2024.2.0)\nRequirement already satisfied: intel-cmplr-lib-ur==2024.2.0 in /usr/local/lib/python3.11/dist-packages (from intel-openmp<2026,>=2024->mkl->numpy>=1.20.0->bertopic) (2024.2.0)\nRequirement already satisfied: MarkupSafe>=2.0 in /usr/local/lib/python3.11/dist-packages (from jinja2->torch>=1.11.0->sentence-transformers>=0.4.1->bertopic) (3.0.2)\nRequirement already satisfied: charset-normalizer<4,>=2 in /usr/local/lib/python3.11/dist-packages (from requests->huggingface-hub>=0.20.0->sentence-transformers>=0.4.1->bertopic) (3.4.2)\nRequirement already satisfied: idna<4,>=2.5 in /usr/local/lib/python3.11/dist-packages (from requests->huggingface-hub>=0.20.0->sentence-transformers>=0.4.1->bertopic) (3.10)\nRequirement already satisfied: urllib3<3,>=1.21.1 in /usr/local/lib/python3.11/dist-packages (from requests->huggingface-hub>=0.20.0->sentence-transformers>=0.4.1->bertopic) (2.4.0)\nRequirement already satisfied: certifi>=2017.4.17 in /usr/local/lib/python3.11/dist-packages (from requests->huggingface-hub>=0.20.0->sentence-transformers>=0.4.1->bertopic) (2025.4.26)\nDownloading bertopic-0.17.0-py3-none-any.whl (150 kB)\n\u001b[2K   \u001b[90m━━━━━━━━━━━━━━━━━━━━━━━━━━━━━━━━━━━━━━━━\u001b[0m \u001b[32m150.6/150.6 kB\u001b[0m \u001b[31m4.0 MB/s\u001b[0m eta \u001b[36m0:00:00\u001b[0ma \u001b[36m0:00:01\u001b[0m\n\u001b[?25hDownloading nvidia_cublas_cu12-12.4.5.8-py3-none-manylinux2014_x86_64.whl (363.4 MB)\n\u001b[2K   \u001b[90m━━━━━━━━━━━━━━━━━━━━━━━━━━━━━━━━━━━━━━━━\u001b[0m \u001b[32m363.4/363.4 MB\u001b[0m \u001b[31m4.2 MB/s\u001b[0m eta \u001b[36m0:00:00\u001b[0m0:00:01\u001b[0m00:01\u001b[0m\n\u001b[?25hDownloading nvidia_cudnn_cu12-9.1.0.70-py3-none-manylinux2014_x86_64.whl (664.8 MB)\n\u001b[2K   \u001b[90m━━━━━━━━━━━━━━━━━━━━━━━━━━━━━━━━━━━━━━━━\u001b[0m \u001b[32m664.8/664.8 MB\u001b[0m \u001b[31m2.1 MB/s\u001b[0m eta \u001b[36m0:00:00\u001b[0m0:00:01\u001b[0m00:01\u001b[0m\n\u001b[?25hDownloading nvidia_cufft_cu12-11.2.1.3-py3-none-manylinux2014_x86_64.whl (211.5 MB)\n\u001b[2K   \u001b[90m━━━━━━━━━━━━━━━━━━━━━━━━━━━━━━━━━━━━━━━━\u001b[0m \u001b[32m211.5/211.5 MB\u001b[0m \u001b[31m7.9 MB/s\u001b[0m eta \u001b[36m0:00:00\u001b[0m0:00:01\u001b[0m00:01\u001b[0m\n\u001b[?25hDownloading nvidia_curand_cu12-10.3.5.147-py3-none-manylinux2014_x86_64.whl (56.3 MB)\n\u001b[2K   \u001b[90m━━━━━━━━━━━━━━━━━━━━━━━━━━━━━━━━━━━━━━━━\u001b[0m \u001b[32m56.3/56.3 MB\u001b[0m \u001b[31m30.2 MB/s\u001b[0m eta \u001b[36m0:00:00\u001b[0m:00:01\u001b[0m00:01\u001b[0m\n\u001b[?25hDownloading nvidia_cusolver_cu12-11.6.1.9-py3-none-manylinux2014_x86_64.whl (127.9 MB)\n\u001b[2K   \u001b[90m━━━━━━━━━━━━━━━━━━━━━━━━━━━━━━━━━━━━━━━━\u001b[0m \u001b[32m127.9/127.9 MB\u001b[0m \u001b[31m12.8 MB/s\u001b[0m eta \u001b[36m0:00:00\u001b[0m:00:01\u001b[0m00:01\u001b[0m\n\u001b[?25hDownloading nvidia_cusparse_cu12-12.3.1.170-py3-none-manylinux2014_x86_64.whl (207.5 MB)\n\u001b[2K   \u001b[90m━━━━━━━━━━━━━━━━━━━━━━━━━━━━━━━━━━━━━━━━\u001b[0m \u001b[32m207.5/207.5 MB\u001b[0m \u001b[31m7.8 MB/s\u001b[0m eta \u001b[36m0:00:00\u001b[0m0:00:01\u001b[0m00:01\u001b[0m\n\u001b[?25hDownloading nvidia_nvjitlink_cu12-12.4.127-py3-none-manylinux2014_x86_64.whl (21.1 MB)\n\u001b[2K   \u001b[90m━━━━━━━━━━━━━━━━━━━━━━━━━━━━━━━━━━━━━━━━\u001b[0m \u001b[32m21.1/21.1 MB\u001b[0m \u001b[31m81.2 MB/s\u001b[0m eta \u001b[36m0:00:00\u001b[0m:00:01\u001b[0m00:01\u001b[0m\n\u001b[?25hInstalling collected packages: nvidia-nvjitlink-cu12, nvidia-curand-cu12, nvidia-cufft-cu12, nvidia-cublas-cu12, nvidia-cusparse-cu12, nvidia-cudnn-cu12, nvidia-cusolver-cu12, bertopic\n  Attempting uninstall: nvidia-nvjitlink-cu12\n    Found existing installation: nvidia-nvjitlink-cu12 12.9.41\n    Uninstalling nvidia-nvjitlink-cu12-12.9.41:\n      Successfully uninstalled nvidia-nvjitlink-cu12-12.9.41\n  Attempting uninstall: nvidia-curand-cu12\n    Found existing installation: nvidia-curand-cu12 10.3.10.19\n    Uninstalling nvidia-curand-cu12-10.3.10.19:\n      Successfully uninstalled nvidia-curand-cu12-10.3.10.19\n  Attempting uninstall: nvidia-cufft-cu12\n    Found existing installation: nvidia-cufft-cu12 11.4.0.6\n    Uninstalling nvidia-cufft-cu12-11.4.0.6:\n      Successfully uninstalled nvidia-cufft-cu12-11.4.0.6\n  Attempting uninstall: nvidia-cublas-cu12\n    Found existing installation: nvidia-cublas-cu12 12.9.0.13\n    Uninstalling nvidia-cublas-cu12-12.9.0.13:\n      Successfully uninstalled nvidia-cublas-cu12-12.9.0.13\n  Attempting uninstall: nvidia-cusparse-cu12\n    Found existing installation: nvidia-cusparse-cu12 12.5.9.5\n    Uninstalling nvidia-cusparse-cu12-12.5.9.5:\n      Successfully uninstalled nvidia-cusparse-cu12-12.5.9.5\n  Attempting uninstall: nvidia-cudnn-cu12\n    Found existing installation: nvidia-cudnn-cu12 9.3.0.75\n    Uninstalling nvidia-cudnn-cu12-9.3.0.75:\n      Successfully uninstalled nvidia-cudnn-cu12-9.3.0.75\n  Attempting uninstall: nvidia-cusolver-cu12\n    Found existing installation: nvidia-cusolver-cu12 11.7.4.40\n    Uninstalling nvidia-cusolver-cu12-11.7.4.40:\n      Successfully uninstalled nvidia-cusolver-cu12-11.7.4.40\nSuccessfully installed bertopic-0.17.0 nvidia-cublas-cu12-12.4.5.8 nvidia-cudnn-cu12-9.1.0.70 nvidia-cufft-cu12-11.2.1.3 nvidia-curand-cu12-10.3.5.147 nvidia-cusolver-cu12-11.6.1.9 nvidia-cusparse-cu12-12.3.1.170 nvidia-nvjitlink-cu12-12.4.127\n",
          "output_type": "stream"
        }
      ],
      "execution_count": null
    },
    {
      "cell_type": "code",
      "source": [
        "#importing libraries\n",
        "import warnings\n",
        "warnings.filterwarnings(\"ignore\")\n",
        "import pandas as pd\n",
        "import nltk\n",
        "from nltk.stem import WordNetLemmatizer\n",
        "from nltk.tokenize import word_tokenize\n",
        "from bertopic import BERTopic\n",
        "nltk.download('wordnet')\n",
        "nltk.download('punkt_tab')\n",
        "nltk.download('punkt')\n",
        "nltk.download('vader_lexicon')\n",
        "nltk.download('stopwords')"
      ],
      "metadata": {
        "trusted": true,
        "execution": {
          "iopub.status.busy": "2025-05-18T21:52:19.218674Z",
          "iopub.execute_input": "2025-05-18T21:52:19.219099Z",
          "iopub.status.idle": "2025-05-18T21:53:31.419536Z",
          "shell.execute_reply.started": "2025-05-18T21:52:19.219071Z",
          "shell.execute_reply": "2025-05-18T21:53:31.41857Z"
        },
        "id": "1uAPsLo-nPsb",
        "outputId": "21da1912-be1e-417c-ed6c-a4d199e42d3d"
      },
      "outputs": [
        {
          "name": "stderr",
          "text": "2025-05-18 21:52:44.324880: E external/local_xla/xla/stream_executor/cuda/cuda_fft.cc:477] Unable to register cuFFT factory: Attempting to register factory for plugin cuFFT when one has already been registered\nWARNING: All log messages before absl::InitializeLog() is called are written to STDERR\nE0000 00:00:1747605164.645434      35 cuda_dnn.cc:8310] Unable to register cuDNN factory: Attempting to register factory for plugin cuDNN when one has already been registered\nE0000 00:00:1747605164.739781      35 cuda_blas.cc:1418] Unable to register cuBLAS factory: Attempting to register factory for plugin cuBLAS when one has already been registered\n[nltk_data] Downloading package wordnet to /usr/share/nltk_data...\n[nltk_data]   Package wordnet is already up-to-date!\n[nltk_data] Downloading package punkt_tab to /usr/share/nltk_data...\n[nltk_data]   Package punkt_tab is already up-to-date!\n[nltk_data] Downloading package punkt to /usr/share/nltk_data...\n[nltk_data]   Package punkt is already up-to-date!\n[nltk_data] Downloading package vader_lexicon to\n[nltk_data]     /usr/share/nltk_data...\n[nltk_data]   Package vader_lexicon is already up-to-date!\n[nltk_data] Downloading package stopwords to /usr/share/nltk_data...\n[nltk_data]   Package stopwords is already up-to-date!\n",
          "output_type": "stream"
        },
        {
          "execution_count": 8,
          "output_type": "execute_result",
          "data": {
            "text/plain": "True"
          },
          "metadata": {}
        }
      ],
      "execution_count": null
    },
    {
      "cell_type": "markdown",
      "source": [
        "Before modeling the topic, we lemmatize the sentences in order to remove, semantically identical words."
      ],
      "metadata": {
        "id": "RyaFy0DlnPsb"
      }
    },
    {
      "cell_type": "code",
      "source": [
        "sentence_df = pd.read_csv(\"/kaggle/input/dataframe/sentence_df.csv\")"
      ],
      "metadata": {
        "trusted": true,
        "execution": {
          "iopub.status.busy": "2025-05-18T21:51:21.362428Z",
          "iopub.execute_input": "2025-05-18T21:51:21.362814Z",
          "iopub.status.idle": "2025-05-18T21:51:21.427164Z",
          "shell.execute_reply.started": "2025-05-18T21:51:21.36276Z",
          "shell.execute_reply": "2025-05-18T21:51:21.426002Z"
        },
        "id": "hVWZJQ3NnPsc"
      },
      "outputs": [],
      "execution_count": null
    },
    {
      "cell_type": "code",
      "source": [
        "lemmatizer = WordNetLemmatizer()\n",
        "\n",
        "def lemmatize_text(text):\n",
        "    tokens = word_tokenize(text)\n",
        "    lemmatized = [lemmatizer.lemmatize(word) for word in tokens]\n",
        "    return \" \".join(lemmatized)\n",
        "\n",
        "sentence_df[\"lemmatized_sentence\"] = sentence_df[\"cleaned_sentence\"].apply(lemmatize_text)\n",
        "sentence_df.head()"
      ],
      "metadata": {
        "trusted": true,
        "execution": {
          "iopub.status.busy": "2025-05-18T21:53:39.711277Z",
          "iopub.execute_input": "2025-05-18T21:53:39.712257Z",
          "iopub.status.idle": "2025-05-18T21:53:44.759676Z",
          "shell.execute_reply.started": "2025-05-18T21:53:39.712225Z",
          "shell.execute_reply": "2025-05-18T21:53:44.758753Z"
        },
        "id": "5njyYhgDnPsc",
        "outputId": "1afabbf9-1a68-4df9-e3a6-5a8b3afb2f4d"
      },
      "outputs": [
        {
          "execution_count": 9,
          "output_type": "execute_result",
          "data": {
            "text/plain": "  source                                              url  \\\n0    web  https://allafrica.com/stories/202412050450.html   \n1    web  https://allafrica.com/stories/202412050450.html   \n2    web  https://allafrica.com/stories/202412050450.html   \n3    web  https://allafrica.com/stories/202412050450.html   \n4    web  https://allafrica.com/stories/202412050450.html   \n\n                                               title  \\\n0  Rwanda: Commuters All Smiles As Kigali Launche...   \n1  Rwanda: Commuters All Smiles As Kigali Launche...   \n2  Rwanda: Commuters All Smiles As Kigali Launche...   \n3  Rwanda: Commuters All Smiles As Kigali Launche...   \n4  Rwanda: Commuters All Smiles As Kigali Launche...   \n\n                publish_date  \\\n0  2024-12-05 12:12:05+00:00   \n1  2024-12-05 12:12:05+00:00   \n2  2024-12-05 12:12:05+00:00   \n3  2024-12-05 12:12:05+00:00   \n4  2024-12-05 12:12:05+00:00   \n\n                                            sentence lang  \\\n0  Commuters were all smiles on Wednesday Decembe...   en   \n1  The new system, which began with the Kabuga-Do...   en   \n2  ALSO READ: Public transport: Kigali to pilot d...   en   \n3                               Here's how it works.   en   \n4  When boarding the bus, you must first select y...   en   \n\n                                    cleaned_sentence  sentiment_score  \\\n0  commuters were all smiles on wednesday decembe...           0.5267   \n1  the new system which began with the kabugadown...           0.0000   \n2  also read public transport kigali to pilot dis...           0.4767   \n3                                 heres how it works           0.0000   \n4  when boarding the bus you must first select yo...           0.4019   \n\n  sentiment_label                                lemmatized_sentence  \n0        positive  commuter were all smile on wednesday december ...  \n1         neutral  the new system which began with the kabugadown...  \n2        positive  also read public transport kigali to pilot dis...  \n3         neutral                                   here how it work  \n4        positive  when boarding the bus you must first select yo...  ",
            "text/html": "<div>\n<style scoped>\n    .dataframe tbody tr th:only-of-type {\n        vertical-align: middle;\n    }\n\n    .dataframe tbody tr th {\n        vertical-align: top;\n    }\n\n    .dataframe thead th {\n        text-align: right;\n    }\n</style>\n<table border=\"1\" class=\"dataframe\">\n  <thead>\n    <tr style=\"text-align: right;\">\n      <th></th>\n      <th>source</th>\n      <th>url</th>\n      <th>title</th>\n      <th>publish_date</th>\n      <th>sentence</th>\n      <th>lang</th>\n      <th>cleaned_sentence</th>\n      <th>sentiment_score</th>\n      <th>sentiment_label</th>\n      <th>lemmatized_sentence</th>\n    </tr>\n  </thead>\n  <tbody>\n    <tr>\n      <th>0</th>\n      <td>web</td>\n      <td>https://allafrica.com/stories/202412050450.html</td>\n      <td>Rwanda: Commuters All Smiles As Kigali Launche...</td>\n      <td>2024-12-05 12:12:05+00:00</td>\n      <td>Commuters were all smiles on Wednesday Decembe...</td>\n      <td>en</td>\n      <td>commuters were all smiles on wednesday decembe...</td>\n      <td>0.5267</td>\n      <td>positive</td>\n      <td>commuter were all smile on wednesday december ...</td>\n    </tr>\n    <tr>\n      <th>1</th>\n      <td>web</td>\n      <td>https://allafrica.com/stories/202412050450.html</td>\n      <td>Rwanda: Commuters All Smiles As Kigali Launche...</td>\n      <td>2024-12-05 12:12:05+00:00</td>\n      <td>The new system, which began with the Kabuga-Do...</td>\n      <td>en</td>\n      <td>the new system which began with the kabugadown...</td>\n      <td>0.0000</td>\n      <td>neutral</td>\n      <td>the new system which began with the kabugadown...</td>\n    </tr>\n    <tr>\n      <th>2</th>\n      <td>web</td>\n      <td>https://allafrica.com/stories/202412050450.html</td>\n      <td>Rwanda: Commuters All Smiles As Kigali Launche...</td>\n      <td>2024-12-05 12:12:05+00:00</td>\n      <td>ALSO READ: Public transport: Kigali to pilot d...</td>\n      <td>en</td>\n      <td>also read public transport kigali to pilot dis...</td>\n      <td>0.4767</td>\n      <td>positive</td>\n      <td>also read public transport kigali to pilot dis...</td>\n    </tr>\n    <tr>\n      <th>3</th>\n      <td>web</td>\n      <td>https://allafrica.com/stories/202412050450.html</td>\n      <td>Rwanda: Commuters All Smiles As Kigali Launche...</td>\n      <td>2024-12-05 12:12:05+00:00</td>\n      <td>Here's how it works.</td>\n      <td>en</td>\n      <td>heres how it works</td>\n      <td>0.0000</td>\n      <td>neutral</td>\n      <td>here how it work</td>\n    </tr>\n    <tr>\n      <th>4</th>\n      <td>web</td>\n      <td>https://allafrica.com/stories/202412050450.html</td>\n      <td>Rwanda: Commuters All Smiles As Kigali Launche...</td>\n      <td>2024-12-05 12:12:05+00:00</td>\n      <td>When boarding the bus, you must first select y...</td>\n      <td>en</td>\n      <td>when boarding the bus you must first select yo...</td>\n      <td>0.4019</td>\n      <td>positive</td>\n      <td>when boarding the bus you must first select yo...</td>\n    </tr>\n  </tbody>\n</table>\n</div>"
          },
          "metadata": {}
        }
      ],
      "execution_count": null
    },
    {
      "cell_type": "code",
      "source": [
        "#We add the lemmatized sentences into a list\n",
        "documents = sentence_df['lemmatized_sentence'].dropna().tolist()"
      ],
      "metadata": {
        "trusted": true,
        "execution": {
          "iopub.status.busy": "2025-05-18T21:56:06.58886Z",
          "iopub.execute_input": "2025-05-18T21:56:06.58982Z",
          "iopub.status.idle": "2025-05-18T21:56:06.595417Z",
          "shell.execute_reply.started": "2025-05-18T21:56:06.589759Z",
          "shell.execute_reply": "2025-05-18T21:56:06.594313Z"
        },
        "id": "VPlD9LuBnPsd"
      },
      "outputs": [],
      "execution_count": null
    },
    {
      "cell_type": "code",
      "source": [
        "#We create a model\n",
        "topic_model = BERTopic(language=\"english\", calculate_probabilities=True,verbose=True,embedding_model = 'paraphrase-MiniLM-L3-v2')\n",
        "\n",
        "#model fitting\n",
        "topics, probs = topic_model.fit_transform(documents)"
      ],
      "metadata": {
        "trusted": true,
        "execution": {
          "iopub.status.busy": "2025-05-18T21:56:39.108216Z",
          "iopub.execute_input": "2025-05-18T21:56:39.108547Z",
          "iopub.status.idle": "2025-05-18T21:57:01.079082Z",
          "shell.execute_reply.started": "2025-05-18T21:56:39.108523Z",
          "shell.execute_reply": "2025-05-18T21:57:01.077884Z"
        },
        "id": "5Qzj294unPsd",
        "outputId": "ae16ffd7-79d9-4ff6-8fea-8873e78d32e1",
        "colab": {
          "referenced_widgets": [
            "1ab7297371b14055a946d2623260f470",
            "2edab0ba41fa4b4aac60c01600ede268",
            "2b58c173b7474e21987a084a1b83ede0",
            "f719f39751fc4dc0b4864f43372355b9",
            "b0c9c0e867554e7da645969a6f2dbad1",
            "e4533876fba6464d819b19fd9edc7b4b",
            "ed65010de90c464595e4d6e3e80f9338",
            "d2b0e90b1b5241ff8a797bbe2e0d0025",
            "b12bdd7120c044259bc825c37cf812b6",
            "a326508453834a16bdc7458728651965",
            "075e7cdb92a5401da0410aaf05668e48",
            "b281b67621a347f58537ada82791b2f8"
          ]
        }
      },
      "outputs": [
        {
          "name": "stderr",
          "text": "2025-05-18 21:56:39,114 - BERTopic - Embedding - Transforming documents to embeddings.\n",
          "output_type": "stream"
        },
        {
          "output_type": "display_data",
          "data": {
            "text/plain": "modules.json:   0%|          | 0.00/229 [00:00<?, ?B/s]",
            "application/vnd.jupyter.widget-view+json": {
              "version_major": 2,
              "version_minor": 0,
              "model_id": "1ab7297371b14055a946d2623260f470"
            }
          },
          "metadata": {}
        },
        {
          "output_type": "display_data",
          "data": {
            "text/plain": "config_sentence_transformers.json:   0%|          | 0.00/122 [00:00<?, ?B/s]",
            "application/vnd.jupyter.widget-view+json": {
              "version_major": 2,
              "version_minor": 0,
              "model_id": "2edab0ba41fa4b4aac60c01600ede268"
            }
          },
          "metadata": {}
        },
        {
          "output_type": "display_data",
          "data": {
            "text/plain": "README.md:   0%|          | 0.00/3.83k [00:00<?, ?B/s]",
            "application/vnd.jupyter.widget-view+json": {
              "version_major": 2,
              "version_minor": 0,
              "model_id": "2b58c173b7474e21987a084a1b83ede0"
            }
          },
          "metadata": {}
        },
        {
          "output_type": "display_data",
          "data": {
            "text/plain": "sentence_bert_config.json:   0%|          | 0.00/53.0 [00:00<?, ?B/s]",
            "application/vnd.jupyter.widget-view+json": {
              "version_major": 2,
              "version_minor": 0,
              "model_id": "f719f39751fc4dc0b4864f43372355b9"
            }
          },
          "metadata": {}
        },
        {
          "output_type": "display_data",
          "data": {
            "text/plain": "config.json:   0%|          | 0.00/629 [00:00<?, ?B/s]",
            "application/vnd.jupyter.widget-view+json": {
              "version_major": 2,
              "version_minor": 0,
              "model_id": "b0c9c0e867554e7da645969a6f2dbad1"
            }
          },
          "metadata": {}
        },
        {
          "output_type": "display_data",
          "data": {
            "text/plain": "model.safetensors:   0%|          | 0.00/69.6M [00:00<?, ?B/s]",
            "application/vnd.jupyter.widget-view+json": {
              "version_major": 2,
              "version_minor": 0,
              "model_id": "e4533876fba6464d819b19fd9edc7b4b"
            }
          },
          "metadata": {}
        },
        {
          "output_type": "display_data",
          "data": {
            "text/plain": "tokenizer_config.json:   0%|          | 0.00/314 [00:00<?, ?B/s]",
            "application/vnd.jupyter.widget-view+json": {
              "version_major": 2,
              "version_minor": 0,
              "model_id": "ed65010de90c464595e4d6e3e80f9338"
            }
          },
          "metadata": {}
        },
        {
          "output_type": "display_data",
          "data": {
            "text/plain": "vocab.txt:   0%|          | 0.00/232k [00:00<?, ?B/s]",
            "application/vnd.jupyter.widget-view+json": {
              "version_major": 2,
              "version_minor": 0,
              "model_id": "d2b0e90b1b5241ff8a797bbe2e0d0025"
            }
          },
          "metadata": {}
        },
        {
          "output_type": "display_data",
          "data": {
            "text/plain": "tokenizer.json:   0%|          | 0.00/466k [00:00<?, ?B/s]",
            "application/vnd.jupyter.widget-view+json": {
              "version_major": 2,
              "version_minor": 0,
              "model_id": "b12bdd7120c044259bc825c37cf812b6"
            }
          },
          "metadata": {}
        },
        {
          "output_type": "display_data",
          "data": {
            "text/plain": "special_tokens_map.json:   0%|          | 0.00/112 [00:00<?, ?B/s]",
            "application/vnd.jupyter.widget-view+json": {
              "version_major": 2,
              "version_minor": 0,
              "model_id": "a326508453834a16bdc7458728651965"
            }
          },
          "metadata": {}
        },
        {
          "output_type": "display_data",
          "data": {
            "text/plain": "config.json:   0%|          | 0.00/190 [00:00<?, ?B/s]",
            "application/vnd.jupyter.widget-view+json": {
              "version_major": 2,
              "version_minor": 0,
              "model_id": "075e7cdb92a5401da0410aaf05668e48"
            }
          },
          "metadata": {}
        },
        {
          "output_type": "display_data",
          "data": {
            "text/plain": "Batches:   0%|          | 0/11 [00:00<?, ?it/s]",
            "application/vnd.jupyter.widget-view+json": {
              "version_major": 2,
              "version_minor": 0,
              "model_id": "b281b67621a347f58537ada82791b2f8"
            }
          },
          "metadata": {}
        },
        {
          "name": "stderr",
          "text": "2025-05-18 21:56:50,556 - BERTopic - Embedding - Completed ✓\n2025-05-18 21:56:50,556 - BERTopic - Dimensionality - Fitting the dimensionality reduction algorithm\n2025-05-18 21:57:00,952 - BERTopic - Dimensionality - Completed ✓\n2025-05-18 21:57:00,954 - BERTopic - Cluster - Start clustering the reduced embeddings\n2025-05-18 21:57:00,986 - BERTopic - Cluster - Completed ✓\n2025-05-18 21:57:01,000 - BERTopic - Representation - Fine-tuning topics using representation models.\n2025-05-18 21:57:01,047 - BERTopic - Representation - Completed ✓\n",
          "output_type": "stream"
        }
      ],
      "execution_count": null
    },
    {
      "cell_type": "code",
      "source": [
        "#we extract topics\n",
        "freq = topic_model.get_topic_info()\n",
        "print(\"Number of topics: {}\".format( len(freq)))\n",
        "freq.head()"
      ],
      "metadata": {
        "trusted": true,
        "execution": {
          "iopub.status.busy": "2025-05-18T21:57:33.104421Z",
          "iopub.execute_input": "2025-05-18T21:57:33.104806Z",
          "iopub.status.idle": "2025-05-18T21:57:33.123955Z",
          "shell.execute_reply.started": "2025-05-18T21:57:33.104756Z",
          "shell.execute_reply": "2025-05-18T21:57:33.123014Z"
        },
        "id": "ZvcOousMnPse",
        "outputId": "94c645d0-45b1-471d-a7e9-67dad53f8750"
      },
      "outputs": [
        {
          "name": "stdout",
          "text": "Number of topics: 6\n",
          "output_type": "stream"
        },
        {
          "execution_count": 13,
          "output_type": "execute_result",
          "data": {
            "text/plain": "   Topic  Count                   Name  \\\n0     -1     70       -1_to_the_and_it   \n1      0    193  0_the_in_to_transport   \n2      1     20      1_tap_card_the_to   \n3      2     16     2_email_you_we_the   \n4      3     16      3_rwf_per_from_km   \n\n                                      Representation  \\\n0  [to, the, and, it, they, is, of, on, system, w...   \n1  [the, in, to, transport, and, kigali, of, for,...   \n2  [tap, card, the, to, when, their, and, out, me...   \n3  [email, you, we, the, your, processing, sent, ...   \n4  [rwf, per, from, km, kilometre, of, to, and, c...   \n\n                                 Representative_Docs  \n0  [if a passenger come from kabuga via sonatube ...  \n1  [all these factor must be considered the cost ...  \n2  [to ensure accurate billing passenger will be ...  \n3  [almost finished we need to confirm your email...  \n4  [generally taxi from the airport should cost r...  ",
            "text/html": "<div>\n<style scoped>\n    .dataframe tbody tr th:only-of-type {\n        vertical-align: middle;\n    }\n\n    .dataframe tbody tr th {\n        vertical-align: top;\n    }\n\n    .dataframe thead th {\n        text-align: right;\n    }\n</style>\n<table border=\"1\" class=\"dataframe\">\n  <thead>\n    <tr style=\"text-align: right;\">\n      <th></th>\n      <th>Topic</th>\n      <th>Count</th>\n      <th>Name</th>\n      <th>Representation</th>\n      <th>Representative_Docs</th>\n    </tr>\n  </thead>\n  <tbody>\n    <tr>\n      <th>0</th>\n      <td>-1</td>\n      <td>70</td>\n      <td>-1_to_the_and_it</td>\n      <td>[to, the, and, it, they, is, of, on, system, w...</td>\n      <td>[if a passenger come from kabuga via sonatube ...</td>\n    </tr>\n    <tr>\n      <th>1</th>\n      <td>0</td>\n      <td>193</td>\n      <td>0_the_in_to_transport</td>\n      <td>[the, in, to, transport, and, kigali, of, for,...</td>\n      <td>[all these factor must be considered the cost ...</td>\n    </tr>\n    <tr>\n      <th>2</th>\n      <td>1</td>\n      <td>20</td>\n      <td>1_tap_card_the_to</td>\n      <td>[tap, card, the, to, when, their, and, out, me...</td>\n      <td>[to ensure accurate billing passenger will be ...</td>\n    </tr>\n    <tr>\n      <th>3</th>\n      <td>2</td>\n      <td>16</td>\n      <td>2_email_you_we_the</td>\n      <td>[email, you, we, the, your, processing, sent, ...</td>\n      <td>[almost finished we need to confirm your email...</td>\n    </tr>\n    <tr>\n      <th>4</th>\n      <td>3</td>\n      <td>16</td>\n      <td>3_rwf_per_from_km</td>\n      <td>[rwf, per, from, km, kilometre, of, to, and, c...</td>\n      <td>[generally taxi from the airport should cost r...</td>\n    </tr>\n  </tbody>\n</table>\n</div>"
          },
          "metadata": {}
        }
      ],
      "execution_count": null
    },
    {
      "cell_type": "markdown",
      "source": [
        "The above table has 3 main columns, providing information about all the topics in descending order of topics size/Count.\n",
        "\n",
        "- 'Topic' is the topic number and the outliers are labeled as -1. Those are topics that should be ignored because they do not bring any added value.\n",
        "- 'Count' is the number of words in the topic.\n",
        "- 'Name' is the name given to the topic.\n",
        "For each topic, we can retrieve the top words and their corresponding c-TF(Term Frequency: How often a word appears in a document)-IDF(Inverse Document Frequency: How unique a word is across all documents) score. Overall we want to evaluate the score by using c-TF-IDF to evaluate the most representative words for each class/topic rather than for each document.\n",
        "\n",
        "The higher the score, the most relevant the word is in representing the topic."
      ],
      "metadata": {
        "id": "M3j3ifvBnPse"
      }
    },
    {
      "cell_type": "code",
      "source": [
        "\n",
        "a_topic = freq.iloc[1][\"Topic\"] # Select the 1st topic\n",
        "topic_model.get_topic(a_topic) # Show the words and their c-TF-IDF scores"
      ],
      "metadata": {
        "trusted": true,
        "execution": {
          "iopub.status.busy": "2025-05-18T22:06:42.962952Z",
          "iopub.execute_input": "2025-05-18T22:06:42.96333Z",
          "iopub.status.idle": "2025-05-18T22:06:42.970819Z",
          "shell.execute_reply.started": "2025-05-18T22:06:42.963303Z",
          "shell.execute_reply": "2025-05-18T22:06:42.969659Z"
        },
        "id": "k8Q3oGmTnPsf",
        "outputId": "f106ca3f-d058-4387-864e-f3798f46acb2"
      },
      "outputs": [
        {
          "execution_count": 15,
          "output_type": "execute_result",
          "data": {
            "text/plain": "[('the', 0.08155805831823226),\n ('in', 0.05775171025974202),\n ('to', 0.0576582505072392),\n ('transport', 0.052086092974183235),\n ('and', 0.0491716527326922),\n ('kigali', 0.04325960020427289),\n ('of', 0.041529959624685066),\n ('for', 0.039907842405786154),\n ('fare', 0.03955962773788519),\n ('public', 0.038681696970361557)]"
          },
          "metadata": {}
        }
      ],
      "execution_count": null
    },
    {
      "cell_type": "markdown",
      "source": [
        "We have words like \"transport\", \"fare\", \"public\", \"kigali\" which are coherent with the distance-based fare pricing topic that we are studying."
      ],
      "metadata": {
        "id": "Swryo_EtnPsf"
      }
    },
    {
      "cell_type": "code",
      "source": [
        "b_topic = freq.iloc[2][\"Topic\"] # Select the 2nd topic\n",
        "topic_model.get_topic(b_topic) # Show the words and their c-TF-IDF scores"
      ],
      "metadata": {
        "trusted": true,
        "execution": {
          "iopub.status.busy": "2025-05-18T22:11:02.576887Z",
          "iopub.execute_input": "2025-05-18T22:11:02.577269Z",
          "iopub.status.idle": "2025-05-18T22:11:02.585381Z",
          "shell.execute_reply.started": "2025-05-18T22:11:02.577242Z",
          "shell.execute_reply": "2025-05-18T22:11:02.584258Z"
        },
        "id": "ubZTzNiEnPsf",
        "outputId": "aeb33150-c4ae-43d3-b470-5106229be8a5"
      },
      "outputs": [
        {
          "execution_count": 16,
          "output_type": "execute_result",
          "data": {
            "text/plain": "[('tap', 0.14913144700995784),\n ('card', 0.1451934021791053),\n ('the', 0.11525367254699401),\n ('to', 0.07430718000683256),\n ('when', 0.07016183355559319),\n ('their', 0.06982195507945195),\n ('and', 0.06186502203507332),\n ('out', 0.06000846641427328),\n ('meter', 0.05932135261425083),\n ('boarding', 0.05932135261425083)]"
          },
          "metadata": {}
        }
      ],
      "execution_count": null
    },
    {
      "cell_type": "markdown",
      "source": [
        "The second topic has the second highest count of words if we exclude the outliers. And here we have words like \"tap\", \"card\", \"boarding\" which also aligns very well with our topic of study."
      ],
      "metadata": {
        "id": "1b0gPzOHnPsf"
      }
    },
    {
      "cell_type": "code",
      "source": [
        "#Most relevant topic themes\n",
        "topic_model.visualize_barchart(top_n_topics=5)"
      ],
      "metadata": {
        "trusted": true,
        "execution": {
          "iopub.status.busy": "2025-05-18T22:14:01.156308Z",
          "iopub.execute_input": "2025-05-18T22:14:01.156681Z",
          "iopub.status.idle": "2025-05-18T22:14:03.143323Z",
          "shell.execute_reply.started": "2025-05-18T22:14:01.156655Z",
          "shell.execute_reply": "2025-05-18T22:14:03.142332Z"
        },
        "id": "Y9yjcT3DnPsf",
        "outputId": "2c3051cd-81c0-45e4-fa87-655e2900d0b0"
      },
      "outputs": [
        {
          "output_type": "display_data",
          "data": {
            "text/html": "<html>\n<head><meta charset=\"utf-8\" /></head>\n<body>\n    <div>            <script src=\"https://cdnjs.cloudflare.com/ajax/libs/mathjax/2.7.5/MathJax.js?config=TeX-AMS-MML_SVG\"></script><script type=\"text/javascript\">if (window.MathJax && window.MathJax.Hub && window.MathJax.Hub.Config) {window.MathJax.Hub.Config({SVG: {font: \"STIX-Web\"}});}</script>                <script type=\"text/javascript\">window.PlotlyConfig = {MathJaxConfig: 'local'};</script>\n        <script charset=\"utf-8\" src=\"https://cdn.plot.ly/plotly-2.35.2.min.js\"></script>                <div id=\"a705518d-be75-469a-99cd-7a4b05c5e689\" class=\"plotly-graph-div\" style=\"height:500px; width:1000px;\"></div>            <script type=\"text/javascript\">                                    window.PLOTLYENV=window.PLOTLYENV || {};                                    if (document.getElementById(\"a705518d-be75-469a-99cd-7a4b05c5e689\")) {                    Plotly.newPlot(                        \"a705518d-be75-469a-99cd-7a4b05c5e689\",                        [{\"marker\":{\"color\":\"#D55E00\"},\"orientation\":\"h\",\"x\":[0.0491716527326922,0.052086092974183235,0.0576582505072392,0.05775171025974202,0.08155805831823226],\"y\":[\"and  \",\"transport  \",\"to  \",\"in  \",\"the  \"],\"type\":\"bar\",\"xaxis\":\"x\",\"yaxis\":\"y\"},{\"marker\":{\"color\":\"#0072B2\"},\"orientation\":\"h\",\"x\":[0.07016183355559319,0.07430718000683256,0.11525367254699401,0.1451934021791053,0.14913144700995784],\"y\":[\"when  \",\"to  \",\"the  \",\"card  \",\"tap  \"],\"type\":\"bar\",\"xaxis\":\"x2\",\"yaxis\":\"y2\"},{\"marker\":{\"color\":\"#CC79A7\"},\"orientation\":\"h\",\"x\":[0.11655381644169706,0.12520497344051917,0.13046952885925425,0.14455621799499485,0.19828711383096803],\"y\":[\"your  \",\"the  \",\"we  \",\"you  \",\"email  \"],\"type\":\"bar\",\"xaxis\":\"x3\",\"yaxis\":\"y3\"},{\"marker\":{\"color\":\"#E69F00\"},\"orientation\":\"h\",\"x\":[0.08433496504692947,0.09543129415480055,0.09908034879695361,0.14894448775284982,0.37044403755291366],\"y\":[\"kilometre  \",\"km  \",\"from  \",\"per  \",\"rwf  \"],\"type\":\"bar\",\"xaxis\":\"x4\",\"yaxis\":\"y4\"},{\"marker\":{\"color\":\"#56B4E9\"},\"orientation\":\"h\",\"x\":[0.060064169721120324,0.06527491560347341,0.06867282535673112,0.06871510362438135,0.18908996143643964],\"y\":[\"them  \",\"of  \",\"the  \",\"you  \",\"user  \"],\"type\":\"bar\",\"xaxis\":\"x5\",\"yaxis\":\"y5\"}],                        {\"template\":{\"data\":{\"barpolar\":[{\"marker\":{\"line\":{\"color\":\"white\",\"width\":0.5},\"pattern\":{\"fillmode\":\"overlay\",\"size\":10,\"solidity\":0.2}},\"type\":\"barpolar\"}],\"bar\":[{\"error_x\":{\"color\":\"#2a3f5f\"},\"error_y\":{\"color\":\"#2a3f5f\"},\"marker\":{\"line\":{\"color\":\"white\",\"width\":0.5},\"pattern\":{\"fillmode\":\"overlay\",\"size\":10,\"solidity\":0.2}},\"type\":\"bar\"}],\"carpet\":[{\"aaxis\":{\"endlinecolor\":\"#2a3f5f\",\"gridcolor\":\"#C8D4E3\",\"linecolor\":\"#C8D4E3\",\"minorgridcolor\":\"#C8D4E3\",\"startlinecolor\":\"#2a3f5f\"},\"baxis\":{\"endlinecolor\":\"#2a3f5f\",\"gridcolor\":\"#C8D4E3\",\"linecolor\":\"#C8D4E3\",\"minorgridcolor\":\"#C8D4E3\",\"startlinecolor\":\"#2a3f5f\"},\"type\":\"carpet\"}],\"choropleth\":[{\"colorbar\":{\"outlinewidth\":0,\"ticks\":\"\"},\"type\":\"choropleth\"}],\"contourcarpet\":[{\"colorbar\":{\"outlinewidth\":0,\"ticks\":\"\"},\"type\":\"contourcarpet\"}],\"contour\":[{\"colorbar\":{\"outlinewidth\":0,\"ticks\":\"\"},\"colorscale\":[[0.0,\"#0d0887\"],[0.1111111111111111,\"#46039f\"],[0.2222222222222222,\"#7201a8\"],[0.3333333333333333,\"#9c179e\"],[0.4444444444444444,\"#bd3786\"],[0.5555555555555556,\"#d8576b\"],[0.6666666666666666,\"#ed7953\"],[0.7777777777777778,\"#fb9f3a\"],[0.8888888888888888,\"#fdca26\"],[1.0,\"#f0f921\"]],\"type\":\"contour\"}],\"heatmapgl\":[{\"colorbar\":{\"outlinewidth\":0,\"ticks\":\"\"},\"colorscale\":[[0.0,\"#0d0887\"],[0.1111111111111111,\"#46039f\"],[0.2222222222222222,\"#7201a8\"],[0.3333333333333333,\"#9c179e\"],[0.4444444444444444,\"#bd3786\"],[0.5555555555555556,\"#d8576b\"],[0.6666666666666666,\"#ed7953\"],[0.7777777777777778,\"#fb9f3a\"],[0.8888888888888888,\"#fdca26\"],[1.0,\"#f0f921\"]],\"type\":\"heatmapgl\"}],\"heatmap\":[{\"colorbar\":{\"outlinewidth\":0,\"ticks\":\"\"},\"colorscale\":[[0.0,\"#0d0887\"],[0.1111111111111111,\"#46039f\"],[0.2222222222222222,\"#7201a8\"],[0.3333333333333333,\"#9c179e\"],[0.4444444444444444,\"#bd3786\"],[0.5555555555555556,\"#d8576b\"],[0.6666666666666666,\"#ed7953\"],[0.7777777777777778,\"#fb9f3a\"],[0.8888888888888888,\"#fdca26\"],[1.0,\"#f0f921\"]],\"type\":\"heatmap\"}],\"histogram2dcontour\":[{\"colorbar\":{\"outlinewidth\":0,\"ticks\":\"\"},\"colorscale\":[[0.0,\"#0d0887\"],[0.1111111111111111,\"#46039f\"],[0.2222222222222222,\"#7201a8\"],[0.3333333333333333,\"#9c179e\"],[0.4444444444444444,\"#bd3786\"],[0.5555555555555556,\"#d8576b\"],[0.6666666666666666,\"#ed7953\"],[0.7777777777777778,\"#fb9f3a\"],[0.8888888888888888,\"#fdca26\"],[1.0,\"#f0f921\"]],\"type\":\"histogram2dcontour\"}],\"histogram2d\":[{\"colorbar\":{\"outlinewidth\":0,\"ticks\":\"\"},\"colorscale\":[[0.0,\"#0d0887\"],[0.1111111111111111,\"#46039f\"],[0.2222222222222222,\"#7201a8\"],[0.3333333333333333,\"#9c179e\"],[0.4444444444444444,\"#bd3786\"],[0.5555555555555556,\"#d8576b\"],[0.6666666666666666,\"#ed7953\"],[0.7777777777777778,\"#fb9f3a\"],[0.8888888888888888,\"#fdca26\"],[1.0,\"#f0f921\"]],\"type\":\"histogram2d\"}],\"histogram\":[{\"marker\":{\"pattern\":{\"fillmode\":\"overlay\",\"size\":10,\"solidity\":0.2}},\"type\":\"histogram\"}],\"mesh3d\":[{\"colorbar\":{\"outlinewidth\":0,\"ticks\":\"\"},\"type\":\"mesh3d\"}],\"parcoords\":[{\"line\":{\"colorbar\":{\"outlinewidth\":0,\"ticks\":\"\"}},\"type\":\"parcoords\"}],\"pie\":[{\"automargin\":true,\"type\":\"pie\"}],\"scatter3d\":[{\"line\":{\"colorbar\":{\"outlinewidth\":0,\"ticks\":\"\"}},\"marker\":{\"colorbar\":{\"outlinewidth\":0,\"ticks\":\"\"}},\"type\":\"scatter3d\"}],\"scattercarpet\":[{\"marker\":{\"colorbar\":{\"outlinewidth\":0,\"ticks\":\"\"}},\"type\":\"scattercarpet\"}],\"scattergeo\":[{\"marker\":{\"colorbar\":{\"outlinewidth\":0,\"ticks\":\"\"}},\"type\":\"scattergeo\"}],\"scattergl\":[{\"marker\":{\"colorbar\":{\"outlinewidth\":0,\"ticks\":\"\"}},\"type\":\"scattergl\"}],\"scattermapbox\":[{\"marker\":{\"colorbar\":{\"outlinewidth\":0,\"ticks\":\"\"}},\"type\":\"scattermapbox\"}],\"scatterpolargl\":[{\"marker\":{\"colorbar\":{\"outlinewidth\":0,\"ticks\":\"\"}},\"type\":\"scatterpolargl\"}],\"scatterpolar\":[{\"marker\":{\"colorbar\":{\"outlinewidth\":0,\"ticks\":\"\"}},\"type\":\"scatterpolar\"}],\"scatter\":[{\"fillpattern\":{\"fillmode\":\"overlay\",\"size\":10,\"solidity\":0.2},\"type\":\"scatter\"}],\"scatterternary\":[{\"marker\":{\"colorbar\":{\"outlinewidth\":0,\"ticks\":\"\"}},\"type\":\"scatterternary\"}],\"surface\":[{\"colorbar\":{\"outlinewidth\":0,\"ticks\":\"\"},\"colorscale\":[[0.0,\"#0d0887\"],[0.1111111111111111,\"#46039f\"],[0.2222222222222222,\"#7201a8\"],[0.3333333333333333,\"#9c179e\"],[0.4444444444444444,\"#bd3786\"],[0.5555555555555556,\"#d8576b\"],[0.6666666666666666,\"#ed7953\"],[0.7777777777777778,\"#fb9f3a\"],[0.8888888888888888,\"#fdca26\"],[1.0,\"#f0f921\"]],\"type\":\"surface\"}],\"table\":[{\"cells\":{\"fill\":{\"color\":\"#EBF0F8\"},\"line\":{\"color\":\"white\"}},\"header\":{\"fill\":{\"color\":\"#C8D4E3\"},\"line\":{\"color\":\"white\"}},\"type\":\"table\"}]},\"layout\":{\"annotationdefaults\":{\"arrowcolor\":\"#2a3f5f\",\"arrowhead\":0,\"arrowwidth\":1},\"autotypenumbers\":\"strict\",\"coloraxis\":{\"colorbar\":{\"outlinewidth\":0,\"ticks\":\"\"}},\"colorscale\":{\"diverging\":[[0,\"#8e0152\"],[0.1,\"#c51b7d\"],[0.2,\"#de77ae\"],[0.3,\"#f1b6da\"],[0.4,\"#fde0ef\"],[0.5,\"#f7f7f7\"],[0.6,\"#e6f5d0\"],[0.7,\"#b8e186\"],[0.8,\"#7fbc41\"],[0.9,\"#4d9221\"],[1,\"#276419\"]],\"sequential\":[[0.0,\"#0d0887\"],[0.1111111111111111,\"#46039f\"],[0.2222222222222222,\"#7201a8\"],[0.3333333333333333,\"#9c179e\"],[0.4444444444444444,\"#bd3786\"],[0.5555555555555556,\"#d8576b\"],[0.6666666666666666,\"#ed7953\"],[0.7777777777777778,\"#fb9f3a\"],[0.8888888888888888,\"#fdca26\"],[1.0,\"#f0f921\"]],\"sequentialminus\":[[0.0,\"#0d0887\"],[0.1111111111111111,\"#46039f\"],[0.2222222222222222,\"#7201a8\"],[0.3333333333333333,\"#9c179e\"],[0.4444444444444444,\"#bd3786\"],[0.5555555555555556,\"#d8576b\"],[0.6666666666666666,\"#ed7953\"],[0.7777777777777778,\"#fb9f3a\"],[0.8888888888888888,\"#fdca26\"],[1.0,\"#f0f921\"]]},\"colorway\":[\"#636efa\",\"#EF553B\",\"#00cc96\",\"#ab63fa\",\"#FFA15A\",\"#19d3f3\",\"#FF6692\",\"#B6E880\",\"#FF97FF\",\"#FECB52\"],\"font\":{\"color\":\"#2a3f5f\"},\"geo\":{\"bgcolor\":\"white\",\"lakecolor\":\"white\",\"landcolor\":\"white\",\"showlakes\":true,\"showland\":true,\"subunitcolor\":\"#C8D4E3\"},\"hoverlabel\":{\"align\":\"left\"},\"hovermode\":\"closest\",\"mapbox\":{\"style\":\"light\"},\"paper_bgcolor\":\"white\",\"plot_bgcolor\":\"white\",\"polar\":{\"angularaxis\":{\"gridcolor\":\"#EBF0F8\",\"linecolor\":\"#EBF0F8\",\"ticks\":\"\"},\"bgcolor\":\"white\",\"radialaxis\":{\"gridcolor\":\"#EBF0F8\",\"linecolor\":\"#EBF0F8\",\"ticks\":\"\"}},\"scene\":{\"xaxis\":{\"backgroundcolor\":\"white\",\"gridcolor\":\"#DFE8F3\",\"gridwidth\":2,\"linecolor\":\"#EBF0F8\",\"showbackground\":true,\"ticks\":\"\",\"zerolinecolor\":\"#EBF0F8\"},\"yaxis\":{\"backgroundcolor\":\"white\",\"gridcolor\":\"#DFE8F3\",\"gridwidth\":2,\"linecolor\":\"#EBF0F8\",\"showbackground\":true,\"ticks\":\"\",\"zerolinecolor\":\"#EBF0F8\"},\"zaxis\":{\"backgroundcolor\":\"white\",\"gridcolor\":\"#DFE8F3\",\"gridwidth\":2,\"linecolor\":\"#EBF0F8\",\"showbackground\":true,\"ticks\":\"\",\"zerolinecolor\":\"#EBF0F8\"}},\"shapedefaults\":{\"line\":{\"color\":\"#2a3f5f\"}},\"ternary\":{\"aaxis\":{\"gridcolor\":\"#DFE8F3\",\"linecolor\":\"#A2B1C6\",\"ticks\":\"\"},\"baxis\":{\"gridcolor\":\"#DFE8F3\",\"linecolor\":\"#A2B1C6\",\"ticks\":\"\"},\"bgcolor\":\"white\",\"caxis\":{\"gridcolor\":\"#DFE8F3\",\"linecolor\":\"#A2B1C6\",\"ticks\":\"\"}},\"title\":{\"x\":0.05},\"xaxis\":{\"automargin\":true,\"gridcolor\":\"#EBF0F8\",\"linecolor\":\"#EBF0F8\",\"ticks\":\"\",\"title\":{\"standoff\":15},\"zerolinecolor\":\"#EBF0F8\",\"zerolinewidth\":2},\"yaxis\":{\"automargin\":true,\"gridcolor\":\"#EBF0F8\",\"linecolor\":\"#EBF0F8\",\"ticks\":\"\",\"title\":{\"standoff\":15},\"zerolinecolor\":\"#EBF0F8\",\"zerolinewidth\":2}}},\"xaxis\":{\"anchor\":\"y\",\"domain\":[0.0,0.175],\"showgrid\":true},\"yaxis\":{\"anchor\":\"x\",\"domain\":[0.6000000000000001,1.0],\"showgrid\":true},\"xaxis2\":{\"anchor\":\"y2\",\"domain\":[0.275,0.45],\"showgrid\":true},\"yaxis2\":{\"anchor\":\"x2\",\"domain\":[0.6000000000000001,1.0],\"showgrid\":true},\"xaxis3\":{\"anchor\":\"y3\",\"domain\":[0.55,0.7250000000000001],\"showgrid\":true},\"yaxis3\":{\"anchor\":\"x3\",\"domain\":[0.6000000000000001,1.0],\"showgrid\":true},\"xaxis4\":{\"anchor\":\"y4\",\"domain\":[0.825,1.0],\"showgrid\":true},\"yaxis4\":{\"anchor\":\"x4\",\"domain\":[0.6000000000000001,1.0],\"showgrid\":true},\"xaxis5\":{\"anchor\":\"y5\",\"domain\":[0.0,0.175],\"showgrid\":true},\"yaxis5\":{\"anchor\":\"x5\",\"domain\":[0.0,0.4],\"showgrid\":true},\"xaxis6\":{\"anchor\":\"y6\",\"domain\":[0.275,0.45],\"showgrid\":true},\"yaxis6\":{\"anchor\":\"x6\",\"domain\":[0.0,0.4],\"showgrid\":true},\"xaxis7\":{\"anchor\":\"y7\",\"domain\":[0.55,0.7250000000000001],\"showgrid\":true},\"yaxis7\":{\"anchor\":\"x7\",\"domain\":[0.0,0.4],\"showgrid\":true},\"xaxis8\":{\"anchor\":\"y8\",\"domain\":[0.825,1.0],\"showgrid\":true},\"yaxis8\":{\"anchor\":\"x8\",\"domain\":[0.0,0.4],\"showgrid\":true},\"annotations\":[{\"font\":{\"size\":16},\"showarrow\":false,\"text\":\"Topic 0\",\"x\":0.0875,\"xanchor\":\"center\",\"xref\":\"paper\",\"y\":1.0,\"yanchor\":\"bottom\",\"yref\":\"paper\"},{\"font\":{\"size\":16},\"showarrow\":false,\"text\":\"Topic 1\",\"x\":0.36250000000000004,\"xanchor\":\"center\",\"xref\":\"paper\",\"y\":1.0,\"yanchor\":\"bottom\",\"yref\":\"paper\"},{\"font\":{\"size\":16},\"showarrow\":false,\"text\":\"Topic 2\",\"x\":0.6375000000000001,\"xanchor\":\"center\",\"xref\":\"paper\",\"y\":1.0,\"yanchor\":\"bottom\",\"yref\":\"paper\"},{\"font\":{\"size\":16},\"showarrow\":false,\"text\":\"Topic 3\",\"x\":0.9125,\"xanchor\":\"center\",\"xref\":\"paper\",\"y\":1.0,\"yanchor\":\"bottom\",\"yref\":\"paper\"},{\"font\":{\"size\":16},\"showarrow\":false,\"text\":\"Topic 4\",\"x\":0.0875,\"xanchor\":\"center\",\"xref\":\"paper\",\"y\":0.4,\"yanchor\":\"bottom\",\"yref\":\"paper\"}],\"title\":{\"font\":{\"size\":22,\"color\":\"Black\"},\"text\":\"Topic Word Scores\",\"x\":0.5,\"xanchor\":\"center\",\"yanchor\":\"top\"},\"hoverlabel\":{\"font\":{\"size\":16,\"family\":\"Rockwell\"},\"bgcolor\":\"white\"},\"showlegend\":false,\"width\":1000,\"height\":500},                        {\"responsive\": true}                    ).then(function(){\n                            \nvar gd = document.getElementById('a705518d-be75-469a-99cd-7a4b05c5e689');\nvar x = new MutationObserver(function (mutations, observer) {{\n        var display = window.getComputedStyle(gd).display;\n        if (!display || display === 'none') {{\n            console.log([gd, 'removed!']);\n            Plotly.purge(gd);\n            observer.disconnect();\n        }}\n}});\n\n// Listen for the removal of the full notebook cells\nvar notebookContainer = gd.closest('#notebook-container');\nif (notebookContainer) {{\n    x.observe(notebookContainer, {childList: true});\n}}\n\n// Listen for the clearing of the current output cell\nvar outputEl = gd.closest('.output');\nif (outputEl) {{\n    x.observe(outputEl, {childList: true});\n}}\n\n                        })                };                            </script>        </div>\n</body>\n</html>"
          },
          "metadata": {}
        }
      ],
      "execution_count": null
    },
    {
      "cell_type": "markdown",
      "source": [
        "The most relevant words of each topic can be visualized in a form of barchart out of the c-TF-IDF score. On the graph above, we represent the corresponding visualization for the 5 topics. The longer the bar, the most relevant is the topic to our analysis. The keywords with the highest c-TF-IDF score accross our 5 topics are \"the\", \"tap\", \"email\", \"rwf\", \"user\" which are particularly relevant to our analysis."
      ],
      "metadata": {
        "id": "ea2KePl9nPsg"
      }
    },
    {
      "cell_type": "code",
      "source": [
        "#Intertopic distance map\n",
        "topic_model.visualize_topics()"
      ],
      "metadata": {
        "trusted": true,
        "execution": {
          "iopub.status.busy": "2025-05-18T22:19:23.422255Z",
          "iopub.execute_input": "2025-05-18T22:19:23.423606Z",
          "iopub.status.idle": "2025-05-18T22:19:24.671488Z",
          "shell.execute_reply.started": "2025-05-18T22:19:23.423568Z",
          "shell.execute_reply": "2025-05-18T22:19:24.670236Z"
        },
        "id": "o1hWsd4QnPsg",
        "outputId": "f6e853ef-48df-459d-ddcf-3cc4d52ce6c2"
      },
      "outputs": [
        {
          "output_type": "display_data",
          "data": {
            "text/html": "<html>\n<head><meta charset=\"utf-8\" /></head>\n<body>\n    <div>            <script src=\"https://cdnjs.cloudflare.com/ajax/libs/mathjax/2.7.5/MathJax.js?config=TeX-AMS-MML_SVG\"></script><script type=\"text/javascript\">if (window.MathJax && window.MathJax.Hub && window.MathJax.Hub.Config) {window.MathJax.Hub.Config({SVG: {font: \"STIX-Web\"}});}</script>                <script type=\"text/javascript\">window.PlotlyConfig = {MathJaxConfig: 'local'};</script>\n        <script charset=\"utf-8\" src=\"https://cdn.plot.ly/plotly-2.35.2.min.js\"></script>                <div id=\"047d148a-ff84-4bbf-b7ce-d65d511c6fb4\" class=\"plotly-graph-div\" style=\"height:650px; width:650px;\"></div>            <script type=\"text/javascript\">                                    window.PLOTLYENV=window.PLOTLYENV || {};                                    if (document.getElementById(\"047d148a-ff84-4bbf-b7ce-d65d511c6fb4\")) {                    Plotly.newPlot(                        \"047d148a-ff84-4bbf-b7ce-d65d511c6fb4\",                        [{\"customdata\":[[0,\"the | in | to | transport | and\",193],[1,\"tap | card | the | to | when\",20],[2,\"email | you | we | the | your\",16],[3,\"rwf | per | from | km | kilometre\",16],[4,\"user | you | the | of | them\",11]],\"hovertemplate\":\"\\u003cb\\u003eTopic %{customdata[0]}\\u003c\\u002fb\\u003e\\u003cbr\\u003e%{customdata[1]}\\u003cbr\\u003eSize: %{customdata[2]}\",\"legendgroup\":\"\",\"marker\":{\"color\":\"#B0BEC5\",\"size\":[193,20,16,16,11],\"sizemode\":\"area\",\"sizeref\":0.120625,\"symbol\":\"circle\",\"line\":{\"color\":\"DarkSlateGrey\",\"width\":2}},\"mode\":\"markers\",\"name\":\"\",\"orientation\":\"v\",\"showlegend\":false,\"x\":[7.7243047,8.350838,8.185542,7.1789308,8.585672],\"xaxis\":\"x\",\"y\":[7.9084196,8.375433,6.6328573,8.406474,7.091433],\"yaxis\":\"y\",\"type\":\"scatter\"}],                        {\"template\":{\"data\":{\"barpolar\":[{\"marker\":{\"line\":{\"color\":\"white\",\"width\":0.5},\"pattern\":{\"fillmode\":\"overlay\",\"size\":10,\"solidity\":0.2}},\"type\":\"barpolar\"}],\"bar\":[{\"error_x\":{\"color\":\"rgb(36,36,36)\"},\"error_y\":{\"color\":\"rgb(36,36,36)\"},\"marker\":{\"line\":{\"color\":\"white\",\"width\":0.5},\"pattern\":{\"fillmode\":\"overlay\",\"size\":10,\"solidity\":0.2}},\"type\":\"bar\"}],\"carpet\":[{\"aaxis\":{\"endlinecolor\":\"rgb(36,36,36)\",\"gridcolor\":\"white\",\"linecolor\":\"white\",\"minorgridcolor\":\"white\",\"startlinecolor\":\"rgb(36,36,36)\"},\"baxis\":{\"endlinecolor\":\"rgb(36,36,36)\",\"gridcolor\":\"white\",\"linecolor\":\"white\",\"minorgridcolor\":\"white\",\"startlinecolor\":\"rgb(36,36,36)\"},\"type\":\"carpet\"}],\"choropleth\":[{\"colorbar\":{\"outlinewidth\":1,\"tickcolor\":\"rgb(36,36,36)\",\"ticks\":\"outside\"},\"type\":\"choropleth\"}],\"contourcarpet\":[{\"colorbar\":{\"outlinewidth\":1,\"tickcolor\":\"rgb(36,36,36)\",\"ticks\":\"outside\"},\"type\":\"contourcarpet\"}],\"contour\":[{\"colorbar\":{\"outlinewidth\":1,\"tickcolor\":\"rgb(36,36,36)\",\"ticks\":\"outside\"},\"colorscale\":[[0.0,\"#440154\"],[0.1111111111111111,\"#482878\"],[0.2222222222222222,\"#3e4989\"],[0.3333333333333333,\"#31688e\"],[0.4444444444444444,\"#26828e\"],[0.5555555555555556,\"#1f9e89\"],[0.6666666666666666,\"#35b779\"],[0.7777777777777778,\"#6ece58\"],[0.8888888888888888,\"#b5de2b\"],[1.0,\"#fde725\"]],\"type\":\"contour\"}],\"heatmapgl\":[{\"colorbar\":{\"outlinewidth\":1,\"tickcolor\":\"rgb(36,36,36)\",\"ticks\":\"outside\"},\"colorscale\":[[0.0,\"#440154\"],[0.1111111111111111,\"#482878\"],[0.2222222222222222,\"#3e4989\"],[0.3333333333333333,\"#31688e\"],[0.4444444444444444,\"#26828e\"],[0.5555555555555556,\"#1f9e89\"],[0.6666666666666666,\"#35b779\"],[0.7777777777777778,\"#6ece58\"],[0.8888888888888888,\"#b5de2b\"],[1.0,\"#fde725\"]],\"type\":\"heatmapgl\"}],\"heatmap\":[{\"colorbar\":{\"outlinewidth\":1,\"tickcolor\":\"rgb(36,36,36)\",\"ticks\":\"outside\"},\"colorscale\":[[0.0,\"#440154\"],[0.1111111111111111,\"#482878\"],[0.2222222222222222,\"#3e4989\"],[0.3333333333333333,\"#31688e\"],[0.4444444444444444,\"#26828e\"],[0.5555555555555556,\"#1f9e89\"],[0.6666666666666666,\"#35b779\"],[0.7777777777777778,\"#6ece58\"],[0.8888888888888888,\"#b5de2b\"],[1.0,\"#fde725\"]],\"type\":\"heatmap\"}],\"histogram2dcontour\":[{\"colorbar\":{\"outlinewidth\":1,\"tickcolor\":\"rgb(36,36,36)\",\"ticks\":\"outside\"},\"colorscale\":[[0.0,\"#440154\"],[0.1111111111111111,\"#482878\"],[0.2222222222222222,\"#3e4989\"],[0.3333333333333333,\"#31688e\"],[0.4444444444444444,\"#26828e\"],[0.5555555555555556,\"#1f9e89\"],[0.6666666666666666,\"#35b779\"],[0.7777777777777778,\"#6ece58\"],[0.8888888888888888,\"#b5de2b\"],[1.0,\"#fde725\"]],\"type\":\"histogram2dcontour\"}],\"histogram2d\":[{\"colorbar\":{\"outlinewidth\":1,\"tickcolor\":\"rgb(36,36,36)\",\"ticks\":\"outside\"},\"colorscale\":[[0.0,\"#440154\"],[0.1111111111111111,\"#482878\"],[0.2222222222222222,\"#3e4989\"],[0.3333333333333333,\"#31688e\"],[0.4444444444444444,\"#26828e\"],[0.5555555555555556,\"#1f9e89\"],[0.6666666666666666,\"#35b779\"],[0.7777777777777778,\"#6ece58\"],[0.8888888888888888,\"#b5de2b\"],[1.0,\"#fde725\"]],\"type\":\"histogram2d\"}],\"histogram\":[{\"marker\":{\"line\":{\"color\":\"white\",\"width\":0.6}},\"type\":\"histogram\"}],\"mesh3d\":[{\"colorbar\":{\"outlinewidth\":1,\"tickcolor\":\"rgb(36,36,36)\",\"ticks\":\"outside\"},\"type\":\"mesh3d\"}],\"parcoords\":[{\"line\":{\"colorbar\":{\"outlinewidth\":1,\"tickcolor\":\"rgb(36,36,36)\",\"ticks\":\"outside\"}},\"type\":\"parcoords\"}],\"pie\":[{\"automargin\":true,\"type\":\"pie\"}],\"scatter3d\":[{\"line\":{\"colorbar\":{\"outlinewidth\":1,\"tickcolor\":\"rgb(36,36,36)\",\"ticks\":\"outside\"}},\"marker\":{\"colorbar\":{\"outlinewidth\":1,\"tickcolor\":\"rgb(36,36,36)\",\"ticks\":\"outside\"}},\"type\":\"scatter3d\"}],\"scattercarpet\":[{\"marker\":{\"colorbar\":{\"outlinewidth\":1,\"tickcolor\":\"rgb(36,36,36)\",\"ticks\":\"outside\"}},\"type\":\"scattercarpet\"}],\"scattergeo\":[{\"marker\":{\"colorbar\":{\"outlinewidth\":1,\"tickcolor\":\"rgb(36,36,36)\",\"ticks\":\"outside\"}},\"type\":\"scattergeo\"}],\"scattergl\":[{\"marker\":{\"colorbar\":{\"outlinewidth\":1,\"tickcolor\":\"rgb(36,36,36)\",\"ticks\":\"outside\"}},\"type\":\"scattergl\"}],\"scattermapbox\":[{\"marker\":{\"colorbar\":{\"outlinewidth\":1,\"tickcolor\":\"rgb(36,36,36)\",\"ticks\":\"outside\"}},\"type\":\"scattermapbox\"}],\"scatterpolargl\":[{\"marker\":{\"colorbar\":{\"outlinewidth\":1,\"tickcolor\":\"rgb(36,36,36)\",\"ticks\":\"outside\"}},\"type\":\"scatterpolargl\"}],\"scatterpolar\":[{\"marker\":{\"colorbar\":{\"outlinewidth\":1,\"tickcolor\":\"rgb(36,36,36)\",\"ticks\":\"outside\"}},\"type\":\"scatterpolar\"}],\"scatter\":[{\"fillpattern\":{\"fillmode\":\"overlay\",\"size\":10,\"solidity\":0.2},\"type\":\"scatter\"}],\"scatterternary\":[{\"marker\":{\"colorbar\":{\"outlinewidth\":1,\"tickcolor\":\"rgb(36,36,36)\",\"ticks\":\"outside\"}},\"type\":\"scatterternary\"}],\"surface\":[{\"colorbar\":{\"outlinewidth\":1,\"tickcolor\":\"rgb(36,36,36)\",\"ticks\":\"outside\"},\"colorscale\":[[0.0,\"#440154\"],[0.1111111111111111,\"#482878\"],[0.2222222222222222,\"#3e4989\"],[0.3333333333333333,\"#31688e\"],[0.4444444444444444,\"#26828e\"],[0.5555555555555556,\"#1f9e89\"],[0.6666666666666666,\"#35b779\"],[0.7777777777777778,\"#6ece58\"],[0.8888888888888888,\"#b5de2b\"],[1.0,\"#fde725\"]],\"type\":\"surface\"}],\"table\":[{\"cells\":{\"fill\":{\"color\":\"rgb(237,237,237)\"},\"line\":{\"color\":\"white\"}},\"header\":{\"fill\":{\"color\":\"rgb(217,217,217)\"},\"line\":{\"color\":\"white\"}},\"type\":\"table\"}]},\"layout\":{\"annotationdefaults\":{\"arrowhead\":0,\"arrowwidth\":1},\"autotypenumbers\":\"strict\",\"coloraxis\":{\"colorbar\":{\"outlinewidth\":1,\"tickcolor\":\"rgb(36,36,36)\",\"ticks\":\"outside\"}},\"colorscale\":{\"diverging\":[[0.0,\"rgb(103,0,31)\"],[0.1,\"rgb(178,24,43)\"],[0.2,\"rgb(214,96,77)\"],[0.3,\"rgb(244,165,130)\"],[0.4,\"rgb(253,219,199)\"],[0.5,\"rgb(247,247,247)\"],[0.6,\"rgb(209,229,240)\"],[0.7,\"rgb(146,197,222)\"],[0.8,\"rgb(67,147,195)\"],[0.9,\"rgb(33,102,172)\"],[1.0,\"rgb(5,48,97)\"]],\"sequential\":[[0.0,\"#440154\"],[0.1111111111111111,\"#482878\"],[0.2222222222222222,\"#3e4989\"],[0.3333333333333333,\"#31688e\"],[0.4444444444444444,\"#26828e\"],[0.5555555555555556,\"#1f9e89\"],[0.6666666666666666,\"#35b779\"],[0.7777777777777778,\"#6ece58\"],[0.8888888888888888,\"#b5de2b\"],[1.0,\"#fde725\"]],\"sequentialminus\":[[0.0,\"#440154\"],[0.1111111111111111,\"#482878\"],[0.2222222222222222,\"#3e4989\"],[0.3333333333333333,\"#31688e\"],[0.4444444444444444,\"#26828e\"],[0.5555555555555556,\"#1f9e89\"],[0.6666666666666666,\"#35b779\"],[0.7777777777777778,\"#6ece58\"],[0.8888888888888888,\"#b5de2b\"],[1.0,\"#fde725\"]]},\"colorway\":[\"#1F77B4\",\"#FF7F0E\",\"#2CA02C\",\"#D62728\",\"#9467BD\",\"#8C564B\",\"#E377C2\",\"#7F7F7F\",\"#BCBD22\",\"#17BECF\"],\"font\":{\"color\":\"rgb(36,36,36)\"},\"geo\":{\"bgcolor\":\"white\",\"lakecolor\":\"white\",\"landcolor\":\"white\",\"showlakes\":true,\"showland\":true,\"subunitcolor\":\"white\"},\"hoverlabel\":{\"align\":\"left\"},\"hovermode\":\"closest\",\"mapbox\":{\"style\":\"light\"},\"paper_bgcolor\":\"white\",\"plot_bgcolor\":\"white\",\"polar\":{\"angularaxis\":{\"gridcolor\":\"rgb(232,232,232)\",\"linecolor\":\"rgb(36,36,36)\",\"showgrid\":false,\"showline\":true,\"ticks\":\"outside\"},\"bgcolor\":\"white\",\"radialaxis\":{\"gridcolor\":\"rgb(232,232,232)\",\"linecolor\":\"rgb(36,36,36)\",\"showgrid\":false,\"showline\":true,\"ticks\":\"outside\"}},\"scene\":{\"xaxis\":{\"backgroundcolor\":\"white\",\"gridcolor\":\"rgb(232,232,232)\",\"gridwidth\":2,\"linecolor\":\"rgb(36,36,36)\",\"showbackground\":true,\"showgrid\":false,\"showline\":true,\"ticks\":\"outside\",\"zeroline\":false,\"zerolinecolor\":\"rgb(36,36,36)\"},\"yaxis\":{\"backgroundcolor\":\"white\",\"gridcolor\":\"rgb(232,232,232)\",\"gridwidth\":2,\"linecolor\":\"rgb(36,36,36)\",\"showbackground\":true,\"showgrid\":false,\"showline\":true,\"ticks\":\"outside\",\"zeroline\":false,\"zerolinecolor\":\"rgb(36,36,36)\"},\"zaxis\":{\"backgroundcolor\":\"white\",\"gridcolor\":\"rgb(232,232,232)\",\"gridwidth\":2,\"linecolor\":\"rgb(36,36,36)\",\"showbackground\":true,\"showgrid\":false,\"showline\":true,\"ticks\":\"outside\",\"zeroline\":false,\"zerolinecolor\":\"rgb(36,36,36)\"}},\"shapedefaults\":{\"fillcolor\":\"black\",\"line\":{\"width\":0},\"opacity\":0.3},\"ternary\":{\"aaxis\":{\"gridcolor\":\"rgb(232,232,232)\",\"linecolor\":\"rgb(36,36,36)\",\"showgrid\":false,\"showline\":true,\"ticks\":\"outside\"},\"baxis\":{\"gridcolor\":\"rgb(232,232,232)\",\"linecolor\":\"rgb(36,36,36)\",\"showgrid\":false,\"showline\":true,\"ticks\":\"outside\"},\"bgcolor\":\"white\",\"caxis\":{\"gridcolor\":\"rgb(232,232,232)\",\"linecolor\":\"rgb(36,36,36)\",\"showgrid\":false,\"showline\":true,\"ticks\":\"outside\"}},\"title\":{\"x\":0.05},\"xaxis\":{\"automargin\":true,\"gridcolor\":\"rgb(232,232,232)\",\"linecolor\":\"rgb(36,36,36)\",\"showgrid\":false,\"showline\":true,\"ticks\":\"outside\",\"title\":{\"standoff\":15},\"zeroline\":false,\"zerolinecolor\":\"rgb(36,36,36)\"},\"yaxis\":{\"automargin\":true,\"gridcolor\":\"rgb(232,232,232)\",\"linecolor\":\"rgb(36,36,36)\",\"showgrid\":false,\"showline\":true,\"ticks\":\"outside\",\"title\":{\"standoff\":15},\"zeroline\":false,\"zerolinecolor\":\"rgb(36,36,36)\"}}},\"xaxis\":{\"anchor\":\"y\",\"domain\":[0.0,1.0],\"title\":{\"text\":\"\"},\"visible\":false,\"range\":[6.102091145515442,9.873523235321045]},\"yaxis\":{\"anchor\":\"x\",\"domain\":[0.0,1.0],\"title\":{\"text\":\"\"},\"visible\":false,\"range\":[5.63792872428894,9.66744523048401]},\"legend\":{\"tracegroupgap\":0,\"itemsizing\":\"constant\"},\"margin\":{\"t\":60},\"title\":{\"font\":{\"size\":22,\"color\":\"Black\"},\"text\":\"\\u003cb\\u003eIntertopic Distance Map\\u003c\\u002fb\\u003e\",\"y\":0.95,\"x\":0.5,\"xanchor\":\"center\",\"yanchor\":\"top\"},\"hoverlabel\":{\"font\":{\"size\":16,\"family\":\"Rockwell\"},\"bgcolor\":\"white\"},\"width\":650,\"height\":650,\"sliders\":[{\"active\":0,\"pad\":{\"t\":50},\"steps\":[{\"args\":[{\"marker.color\":[[\"red\",\"#B0BEC5\",\"#B0BEC5\",\"#B0BEC5\",\"#B0BEC5\"]]}],\"label\":\"Topic 0\",\"method\":\"update\"},{\"args\":[{\"marker.color\":[[\"#B0BEC5\",\"red\",\"#B0BEC5\",\"#B0BEC5\",\"#B0BEC5\"]]}],\"label\":\"Topic 1\",\"method\":\"update\"},{\"args\":[{\"marker.color\":[[\"#B0BEC5\",\"#B0BEC5\",\"red\",\"#B0BEC5\",\"#B0BEC5\"]]}],\"label\":\"Topic 2\",\"method\":\"update\"},{\"args\":[{\"marker.color\":[[\"#B0BEC5\",\"#B0BEC5\",\"#B0BEC5\",\"red\",\"#B0BEC5\"]]}],\"label\":\"Topic 3\",\"method\":\"update\"},{\"args\":[{\"marker.color\":[[\"#B0BEC5\",\"#B0BEC5\",\"#B0BEC5\",\"#B0BEC5\",\"red\"]]}],\"label\":\"Topic 4\",\"method\":\"update\"}]}],\"shapes\":[{\"line\":{\"color\":\"#CFD8DC\",\"width\":2},\"type\":\"line\",\"x0\":7.987807190418243,\"x1\":7.987807190418243,\"y0\":5.63792872428894,\"y1\":9.66744523048401},{\"line\":{\"color\":\"#9E9E9E\",\"width\":2},\"type\":\"line\",\"x0\":6.102091145515442,\"x1\":9.873523235321045,\"y0\":7.652686977386475,\"y1\":7.652686977386475}],\"annotations\":[{\"showarrow\":false,\"text\":\"D1\",\"x\":6.102091145515442,\"y\":7.652686977386475,\"yshift\":10},{\"showarrow\":false,\"text\":\"D2\",\"x\":7.987807190418243,\"xshift\":10,\"y\":9.66744523048401}]},                        {\"responsive\": true}                    ).then(function(){\n                            \nvar gd = document.getElementById('047d148a-ff84-4bbf-b7ce-d65d511c6fb4');\nvar x = new MutationObserver(function (mutations, observer) {{\n        var display = window.getComputedStyle(gd).display;\n        if (!display || display === 'none') {{\n            console.log([gd, 'removed!']);\n            Plotly.purge(gd);\n            observer.disconnect();\n        }}\n}});\n\n// Listen for the removal of the full notebook cells\nvar notebookContainer = gd.closest('#notebook-container');\nif (notebookContainer) {{\n    x.observe(notebookContainer, {childList: true});\n}}\n\n// Listen for the clearing of the current output cell\nvar outputEl = gd.closest('.output');\nif (outputEl) {{\n    x.observe(outputEl, {childList: true});\n}}\n\n                        })                };                            </script>        </div>\n</body>\n</html>"
          },
          "metadata": {}
        }
      ],
      "execution_count": null
    },
    {
      "cell_type": "markdown",
      "source": [
        "We have an interactive dashboard that shows the corresponding words and scores for each topic and the distance between topics in a 2D representation."
      ],
      "metadata": {
        "id": "_ajplxL_nPsg"
      }
    },
    {
      "cell_type": "code",
      "source": [
        "topic_model.visualize_documents(documents)"
      ],
      "metadata": {
        "trusted": true,
        "execution": {
          "iopub.status.busy": "2025-05-18T22:23:21.796375Z",
          "iopub.execute_input": "2025-05-18T22:23:21.79675Z",
          "iopub.status.idle": "2025-05-18T22:23:23.694877Z",
          "shell.execute_reply.started": "2025-05-18T22:23:21.796726Z",
          "shell.execute_reply": "2025-05-18T22:23:23.693821Z"
        },
        "id": "jUgmPnmEnPsg",
        "outputId": "0865f02a-8788-4462-bbec-11cfe4ad41f0",
        "colab": {
          "referenced_widgets": [
            "aa08a59415e848d793f44d4fe21fae80"
          ]
        }
      },
      "outputs": [
        {
          "output_type": "display_data",
          "data": {
            "text/plain": "Batches:   0%|          | 0/11 [00:00<?, ?it/s]",
            "application/vnd.jupyter.widget-view+json": {
              "version_major": 2,
              "version_minor": 0,
              "model_id": "aa08a59415e848d793f44d4fe21fae80"
            }
          },
          "metadata": {}
        },
        {
          "output_type": "display_data",
          "data": {
            "text/html": "<html>\n<head><meta charset=\"utf-8\" /></head>\n<body>\n    <div>            <script src=\"https://cdnjs.cloudflare.com/ajax/libs/mathjax/2.7.5/MathJax.js?config=TeX-AMS-MML_SVG\"></script><script type=\"text/javascript\">if (window.MathJax && window.MathJax.Hub && window.MathJax.Hub.Config) {window.MathJax.Hub.Config({SVG: {font: \"STIX-Web\"}});}</script>                <script type=\"text/javascript\">window.PlotlyConfig = {MathJaxConfig: 'local'};</script>\n        <script charset=\"utf-8\" src=\"https://cdn.plot.ly/plotly-2.35.2.min.js\"></script>                <div id=\"1a0e1eaa-ffea-491e-b6cd-cbb21dcb9d7a\" class=\"plotly-graph-div\" style=\"height:750px; width:1200px;\"></div>            <script type=\"text/javascript\">                                    window.PLOTLYENV=window.PLOTLYENV || {};                                    if (document.getElementById(\"1a0e1eaa-ffea-491e-b6cd-cbb21dcb9d7a\")) {                    Plotly.newPlot(                        \"1a0e1eaa-ffea-491e-b6cd-cbb21dcb9d7a\",                        [{\"hoverinfo\":\"text\",\"hovertext\":[\"this is because the decision will affect many citizen across the country he said\",\"user jeanmakuza much appreciated\",\"for florence uwamahoro a university student the new system is simple and easy to use\",\"this system once completed will be announced said jimmy gasore the minister of infrastructure\",\"it is unfair for a passenger going for instance to sonatube from gikondo to pay the same fare a a person going to kimironko or remera after boarding any of the bus on the route said musa mahoro a passenger who us public transport bus regularly\",\"if a passenger didnt have a card they relied on the driver to assist\",\"and if you cancel a ride they may not notice turn up anyway and then get angry youve wasted their time\",\"it is organised and transparent uwamahoro said\",\"it is good news that there are line to connect to the special economic zone he noted\",\"born and living in the city ive witnessed how greatly our transport system ha improved and keep getting better\",\"twitter user iremmy nice neza ruwarwanda mense mwiba mense member about price by saying car from education really user etiennemurenge only a person who is going to have full of journey a it can lead to more than one journey on the map which would go to the tobacco\",\"alteast make and reserve enough space one way\",\"error\",\"thanks user abatheophile but tell u how to be confused to trap of the county region in the way of technology\",\"we hope this will decrease said bonaventure iradukunda a resident of gasabo district\",\"if a passenger come from kabuga via sonatube to nyabugogo and alights from the bus when they reach the middle of the trip they should not pay the same amount which is rwf a someone who will reach the destination commented joseph twizeyimana\",\"they should also have consulted civil society organisation that advocate for citizen because they have a lot to contribute to the decisionmaking process\",\"passenger should wash their hand with water and soap thoroughly or sanitize before and after reaching their destination to prevent the spread of covid part of the communiqué read\",\"the new system which began with the kabugadowntown and nyabugogokabuga bus route will be rolled out to all the route in kigali before the end of the year\",\"evariste murwanashyaka an activist from umbrella of human right organisation in rwanda cladho expressed concern over the burden placed on citizen due to the fare hike\",\"error\",\"i also love how quick and efficient the system is\",\"please try again later\",\"speak to him a little to ensure he hasnt been drinking\",\"if it close to curfew time look for a taxi\",\"while it a little more expensive than a taxi it much more convenient\",\"however you might also negotiate based on weekly and monthly rate\",\"it feel like we are catching up with more advanced system worldwide\",\"we hope that change can still be done to respond to citizen need\",\"it is a good system which is fair and simple to use innocent mugabe a commuter from nyabugogo said\",\"getting my balance back when i do not travel the full route take just a few second\",\"a lot of money wa spent on upcountry route\",\"rwanda is rweme\",\"traveling to burundi usually take about hour while the farthest destination in tanzania is hour away\",\"commuter are encouraged to cooperate and provide feedback during the pilot phase\",\"file\",\"close sign up for free allafrica newsletter get the latest in african news delivered straight to your inbox top headline rwanda transport by submitting above you agree to our privacy policy\",\"please try again later\",\"the system take about to second to process and return the balance\",\"the price range will depend on the type of car you want and will vary for different car rental company in the city\",\"this pricing model will be tested on specific route namely nyabugogokabuga and downtownkabuga allowing passenger to pay based on the distance traveled instead of a standard flat fare\",\"rwanda also share a land border with burundi uganda tanzania and the democratic republic of congo\",\"error\",\"the feedback from passenger ha been overwhelmingly positive a they were eager to experience this new system she said\",\"today commuter from gisozi to town were almost left stranded by the bus stop because charge were increased by a whole frw\",\"and if youre splitting the price between a group it work out quite cheap\",\"before implementation the government can still listen to public reaction he noted\",\"however traveling to the western province can take up to hour\",\"while they sometimes overcharge foreigner it usually not too high and open to haggling\",\"error\",\"passenger are supposed to wear their mask well greeting by shaking hand or hugging is prohibited respecting all the covid preventive guideline a suggested by the ministry of health should continue to be done\",\"the pilot will begin on december on the nyabugogokabuga and downtownkabuga route\",\"mukangabo also said that rura chose to begin with some of the longest route in kigali to identify potential issue and solve them more effectively\",\"user mugishafra thank you for giving them a line user bababrajane this wa much appreciated\",\"driver on kamembemushaka road and mushakabugarama road charge any amount they want\",\"now that the system ha launched well we are looking forward to deploying it citywide\",\"theyre quick cheap convenient and mostly safe\",\"price on such road will be determined by the market depending on particular condition and use of these road\",\"rwanda ha introduced a new distancebased fare system for public bus starting with the kabugadowntown and nyabugogokabuga route\",\"therefore charging public transport fare should be based on a certain distance each passenger us to alleviate the burden evariste murwanashyaka an activist from umbrella of human right organisation in rwanda cladho told the new time\",\"despite positive feedback the pilot phase ha not been without issue\",\"the system is simple to use it is the usual tap that we are used to and everything is calculated automatically\",\"opportunistic thief are especially bold just before covid curfew because they know you wont have a chance to report them or find help before you have to return home\",\"it safer easiest and more hygienic\",\"we will inform the public a we expand to other route said mukangabo\",\"for yego cab you can also call a tollfree number to order your ride\",\"they may need help with direction which can be challenging if you dont speak kinyarwanda or french\",\"dont go to the agency to carry student who went to the vacance that they were going to do with no friend when the student took them they would pay a double ticket because it came a blow\",\"it took me one ride to get used to it and i think it is much better than the old system\",\"close sign up for free allafrica newsletter get the latest in african news delivered straight to your inbox top headline rwanda transport by submitting above you agree to our privacy policy\",null],\"marker\":{\"color\":\"#CFD8DC\",\"opacity\":0.5,\"size\":5},\"mode\":\"markers+text\",\"name\":\"other\",\"showlegend\":false,\"x\":[5.3269544,6.2274485,6.875683,5.472891,6.2542696,8.849843,8.613011,6.7560163,4.7839317,6.7450595,6.2385116,8.552855,-6.2705183,7.254188,7.589224,6.2792025,5.315659,8.750833,5.484825,4.984443,-6.2983375,6.9705844,-6.264016,8.786452,8.523045,8.222762,7.7423077,6.9125857,5.39846,6.7117248,7.7079396,6.028645,4.763815,4.8017683,7.3650246,-6.300799,4.729561,-6.3091636,7.276313,8.651515,5.398515,4.7418056,-6.2965817,7.3421144,6.9655857,8.003627,5.422845,7.9392314,8.011689,-6.301123,8.8898535,5.543712,5.6509643,6.3535743,7.3681836,6.814754,8.078167,7.6476436,5.1584387,5.5945463,7.4137726,6.9749613,5.9639616,8.149776,5.1622987,8.746394,7.020879,6.269111,6.9118977,4.7316856,5.4453826],\"y\":[16.10426,16.0246,15.135542,18.346941,16.87576,15.0394745,17.223969,15.306934,16.666918,14.830639,16.726025,18.537174,8.6022215,17.02043,17.784868,16.798775,16.100807,15.792316,17.130608,16.50397,8.574355,14.705409,8.608743,15.391423,17.857166,18.616184,19.144314,14.672971,15.9958515,15.296855,15.603438,19.41283,16.618713,16.735739,14.602479,8.571988,16.591942,8.563094,14.998731,18.27491,17.160017,16.614594,8.5761175,14.621222,17.314884,18.992035,15.94448,16.581442,18.674585,8.57164,15.861174,17.057976,17.034878,15.873897,17.391993,14.6382885,18.791534,19.03182,17.079231,18.029985,14.58217,14.690639,16.411356,16.164837,17.603365,17.056736,16.451992,16.82323,14.656753,16.584648,15.803671],\"type\":\"scattergl\"},{\"hoverinfo\":\"text\",\"hovertext\":[\"the good road light traffic and cool climate make kigali a great city to cycle in\",\"rent a motorbike in kigali renting a motorbike is another way to get around the city\",\"if youre downtown check out the kigali carfree zone which ha been transformed specifically for pedestrian\",\"good road decent traffic management robust public transport and the introduction of ridehailing apps make getting around way easier than most major city in africa\",\"however we are not happy with the increase in public transport fare because they are a burden for many citizen considering the rising cost of living\",\"dont walk with your phone out\",\"the area id recommend to go for a walk are gaculiro and nyarutarama road a they are quieter and not so busy with traffic\",\"safety on motos dont be afraid to inspect a bike and helmet provided before agreeing to ride to ensure their both safe\",\"under this system passenger will pay fare according to the distance traveled rather than a flat fare for the entire route\",\"overall there is a reduction if you look at it based on the existing fare that were introduced with the measure against covid but if compared to the rate before the covid period there is an increase dr rutimirwa said\",\"if youre getting a taxi from the airport expect to haggle a driver will try charging to premium to unsuspecting tourist\",\"you will also consider the distance between mile and another so that the first km are and the other is in addition to a certain amount of money because there are frw elsewhere\",\"we are still conducting study and test of how a passenger can pay public transport fare based on the distance they alight from the bus\",\"while passenger welcomed the addition of new public transport line to improve accessibility they stressed the need for a fairer fare system based on the distance traveled\",\"using taxi apps in kigali requires a lot of patience\",\"commuter were all smile on wednesday december after rwanda utility regulatory authority rura unveiled a payperdistance fare system for public bus in kigali replacing the flatrate pricing system that had been in used for year\",\"we encourage people to constantly when they are not getting the service\",\"taxi apps kigali ha two taxi and ridehailing apps move and yego cab\",\"just make sure you pay attention to the sign indicating the right speed and restricted area to drive through\",\"resident said there is a line from remeramulindigasogi but the road is poor\",\"we opted to use routebased fare because it wa found to benefit both party said emmanuel asaba katabarwa principal official in charge of transport planning and development at rura\",\"build kigali of year not for project to be demolished in the next couple year is poor planning one day after rura announced new travel fare there are mixed feeling from the public with some because the fare have been hiked even more than before the coronavirus pandemic hit\",\"extra tip for taking motos if the driver doesnt know the location youre driving to ring someone at your destination who speaks kinyarwanda and ask them to give him direction\",\"also read new bus start operation in kigali meanwhile he noted that before scrapping subsidy and increasing public transport fare government institution should have involved citizen in the decisionmaking process allowing them to contribute to decision that may have an impact on their life\",\"there are many bus stop around the city so dont worry about walking a long distance to find one\",\"there wa no single bus to take passenger from nyacyonga to rutunga\",\"pacifique ishimwe added it might be nice if these bus have a schedule\",\"transport fare on most upcountry route increased\",\"shuttle bus kigali bus service kb provides hourly direct shuttle between kigali airport and the union trade center utc in the business district of central kigali\",\"even an seater bus can be allowed on these road\",\"he said that the new transport fare factored in many thing such a reinvestment in public transport helping investor meet operation cost and also cater for more improvement expected in the public transport sector\",\"regional bus to neighbouring country also leave from nyabugogo taxi park\",\"watch out for the exhaust pipe when dismounting so you dont get burned\",\"keep an eye on the road and a driver speed\",\"it had been hoped that when occupancy rate increase transport fare would be reduced which wa not the case under the revised rate\",\"the payperdistance system is a welcome relief for lowincome earner\",\"most main road around the city are closed to vehicle for a few hour so people can make the most of them\",\"with this new system passenger will no longer pay for the entire route but only for the kilometer they travel\",\"there are plenty of bicycle shop in kigali selling new and secondhand ride\",\"kigali car free day take place twice a month on the st and rd sunday\",\"however the covid preventive measure and directive should remain tight and respected according to rura\",\"dr rutimirwa assured citizen that rura ha no interest in making people pay more for a service they should pay less for but it rather ensures that both the consumer and investor in transport meet in the middle to cater for the cost\",\"it is a big relief especially for those of u who do not always reach the end of the route\",\"the new mechanism is designed to increase affordability and efficiency aligning transport cost with actual usage\",\"following a decision by a cabinet meeting chaired by president paul kagame on monday rwanda utility regulatory authority rura ha issued new transport fare which have drawn mixed reaction\",\"public transport user and activist have requested the government to fasttrack the implementation of a distancebased transport fare system instead of charging for the entire journey to alleviate the cost burden\",\"if this system work well it will solve the issue for public transport user who often complain about being overcharged compared to the distance travelled\",\"business commuter like anasthasie uwinshuti praised the system for it fairness noting they would no longer need to pay for the full route when traveling shorter distance\",\"you can also catch a bus at a bus stop\",\"kigali extensive road network mean you can usually find an alternative route if you get stuck in a jam\",\"destination and route are marked by the colour of the bus and a screen at the front\",\"he said the new public transport fare should start with a system to pay based on the distance gone\",\"mugging and snatchandgrab theft from passing motorbike driver are common\",\"passenger travelling by public bus in kigali will pay fare based on the distance travelled under a new system set to be piloted this month\",\"if you find a reliable driver you use often take his number to pick you up and take you around\",\"you can also hail a passing moto from the road but this come with some risk\",\"kigali car free day kigali car free day is a sport program introduced by the government of rwanda in\",\"routebases fare with routebased fare once the passenger occupies the space there is no any other person to use that space unless the bus ha reached it final route destination mr katabarwa said\",\"kigali is set to revolutionize it public transportation system with the introduction of a distancebased fare pilot program on december\",\"also read govt to scrap subsidy in public transport we are happy with the decision to buy many bus which is addressing the woe of commuter who were wasting time in long queue seeking public transport service\",\"a the implementation of new public transport fare approach on march call for a distancebased transport fare system are gaining momentum among commuter and activist\",\"when we are setting up transport fare rura look at the interest of both the passenger and the transport operator to ensure that none of the two incurs loss the transport operator invest a lot in the bus and incur operation cost but we also know that people need to have affordable transport mean\",\"earlier this year following the outbreak of the new coronavirus public transport wa put on hold and when it returned in june rura introduced new fare in line with the new social distancing measure in the bus\",\"it an opportunity for people to participate in physical exercise around the city on road free of vehicle\",\"minister of infrastructure jimmy gasore assured that study and test are ongoing to develop a payment system based on the distance traveled by passenger\",\"transport in kigali ha improved massively in recent year\",\"however the city of kigali and the infrastructure ministry are exploring the feasibility of implementing a distancebased fare system to address the public concern\",\"rba tv\",\"there is a need for a public transport line from kimironko to ndera alphonse habumugisha said\",\"the best are hope line sport titanium smart life the shop people also often post secondhand bike for sale in our living in kigali facebook community so you can easily get an excellent deal on there too\",\"let say from am to pm and each bus stop ha a name or code so that passenger wont be stranded at any bus stop and the schedule will be published at each bus stop and people will know when to board\",\"anatholie usengimana a musanzebased resident added that there are route citing the kinigibisate route where transport operator charge any fare that is not regulated\",\"passenger mixed reaction despite the increase in public transport fare passenger welcomed the decision to open new public transport line which will improve access\",\"however one driver said it work better when each passenger ha their own card\",\"user tirus this is what happens when there is little or no corruption in a country user jerusalemug good but there better plan for the same amount even cheaper there nothing outstanding about theme one user francoisngabo it is look nice but lane one way aresolutely not enough with this kigali growth speed you will be disappointed\",\"the meter are attached to the bike and you can request a driver to turn it on at the start of your ride\",\"in kinyinya we spend over an hour waiting for a bus\",\"for example if we were to consider distancebased where price are determined by kilometre travelled passenger traveling short distance will be overcharged\",\"a rura continues refining the system it is poised to transform public transport in rwanda balancing affordability with improved service delivery\",\"these card are available in every taxi park and most bus stop\",\"bus and mototaxi you can take a bus or moto to the airport but youll need to enter via a different gate to car and the shuttle bus service\",\"the rwanda utility regulatory authority rura ha announced the introduction of a pilot distancebased fare system for public transport user in kigali\",\"stay uptodate on event in kigali to ensure they dont cause you any disruption\",\"also read public transport kigali to pilot distancebased payment system a someone who experienced the new fare payment system firsthand i can confidently say it a gamechanger for passenger\",\"meanwhile the city of kigali and the infrastructure ministry said they are still exploring the possibility of a distancebased transport fare system instead of charging for the entire journey to alleviate the public transport cost burden\",\"bus are modern comfortable and run on set schedule and route\",\"car rental you can also rent a car ahead of your arrival and have it ready to ride it a soon a you arrive at the airport\",\"nyabugogo taxi park is the central bus station in kigali for traveling outside the city\",\"passenger are advised to pay using cashless system open window when traveling when it not raining\",\"on the issue of internet in the bus which passenger pay for in the fare kulamba said that passenger are entitled to internet on the bus and rura a the regulator is determined to see that the service is consistent and reliable\",\"below are the best bus company for different country\",\"kenya and uganda kampala coach simba mash cool modern coach uganda only jaguar volcano horizon mosh power tanzania trinity matunda express select final thought transport in kigali is far superior to many neighbouring country and getting around the city is a breeze most of the time\",\"but they will comply with our requirement after getting license from rura\",\"advertisement there are many form of fare but distancebased zonebased and routebased fare are commonly used in the world\",\"bus station in kigali are known a taxi park and youll usually find one in every neighbourhood\",\"a the bus move the system calculates the actual fare based on the distance travelled in term of kilometer and when you get off before the last stop in this case downtown you tap the card once again and you get back the unused amount\",\"so the new rate were arrived at based on that but we look more at the interest of the citizen kulamba explained\",\"the innovative system mark a shift in kigali public transport sector promoting convenience and cost efficiency\",\"it also possible to rent a bicycle to move around\",\"also read five way bus lane will improve kigali public transport finally we are only paying for the distance we travel said jeannette uwase who had taken the bus from kabuga\",\"kigali motorbike rental ha various option depending on the moto you want the type of road you want to ride on and your experience in riding a moto\",\"rura explains while appearing on the kt radio talk show ubyumva ute on thursday evening tony kulamba the head of transport at rura said that the fare were wellthought to ensure that both the transport operator and consumer benefit in equal measure\",\"dont we look at c\",\"this change ensures fairness and affordability for all mukangabo said\",\"once youve downloaded the app you can use it to unlock a bike cycle it to the next dock station and pay a fixed fee based on the distance traveled\",\"the initiative aim to enhance fairness and equity in public transport pricing\",\"traffic can get dense during rush hour around am and pm when people are going to or from work\",\"he said that the precovid fare had almost reached the year cap and were about to be revised in line with the current cost of transport\",\"dont grab or hug your driver\",\"traffic also get congested when special event are happening such a bicycle tournament or covid curfew\",\"this is a great way to get around if youre just visiting the city or youve moved here and want to learn how to drive in kigali before buying a car\",\"getting to and from the airport getting from and from kigali airport is quite easy\",\"taxi getting a taxi to the airport is quite straightforward and youll be dropped directly at the departure car park\",\"bike are docked at station throughout the city including the marriott hotel in downtown and mtn centre in remera\",\"this is a step forward for public transport\",\"the information wa announced through a communique shared on ruras official social medium platform where the regulatory authority detailed the implementation plan fare structure and the importance of public cooperation in the pilot phase\",\"once completed this system aim to provide a fairer and more equitable solution for public transport user across the country\",\"many driver still arent used to using the apps and will ring you to confirm your pickup and dropoff location\",\"also read another bus company to serve kigali route although user welcome new transport line they insist on the need for a distancebased transport fare system\",\"if youre in a rush make sure the driver ha a full tank so you dont get stuck filling up on the way\",\"some also argued that given the impact of covid on many it is not the right to increase transport cost a people recover\",\"hotel transfer a much easier option is to organise a transfer with your hotel or host in kigali\",\"moto driver in kigali work on almost fixed fare based on distance\",\"the system ensures that between one and five kilometre a commuter pay the same amount a the one travelling between six and kilometre\",\"if youre visiting a national park or other tourist destination your tour company will usually provide transport\",\"it safer cheaper and more reliable than using different driver all the time\",\"rura defended the system saying fare are determined by several factor among them interest of investor and passenger\",\"resident highlighted instance of overcharging and emphasized the importance of regulating price to ensure fairness for commuter\",\"try not to walk alone on quiet street at night\",\"all moto driver in kigali carry an extra helmet for their passenger but due to covid restriction youll need to wear a headscarf or shawl underneath\",\"public transport bus are the most common form of public transport in kigali\",\"move is exclusively available to driver of volkswagen car so there are fewer driver but it a much more comfortable ride\",\"traveling outside kigali traveling from kigali to different district usually take hour\",\"i usually preferred to go by foot which is tiresome\",\"commuter board a public bus during the launch of the distancebased fare system in kigali on wednesday december photo by craish bahizi\",\"safety while walking even though kigali is a very safe city take precaution while walking especially at night\",\"motorbike taxi motorbike taxi known a motos in rwanda are still the most popular form of transport in kigali for most people\",\"dr benjamin rutimirwa the director of economic regulation at rura also explained that the new rate though are slightly higher than the transport fare of the precovid period it wa reduced compared to the rate that were introduced in june following the return of public transport\",\"moto driver usually work from station junction and roadside area where they hang about and wait for passenger\",\"the new rate follow a decision by the cabinet to increase occupancy in public bus to percent for seated passenger and percent for standing passenger\",\"toc traffic in kigali traffic in kigali usually move without too many delay or congestion\",\"buy a helmet and use this whenever you ride a moto\",\"the system will be rolled out across all kigali route by yearend with commuter like clementine uwitonze a security guard already seeing saving on daily transport cost\",\"if youre concerned about his driving tell him to slow down and pay better attention\",\"however the new rate though they reflect a reduction in the cost of transport per kilometre transport to and from certain part of kigali such a nyacyonga and karuruma increased while in other place it slightly reduced\",\"it help u to monitor and ensure that the company supposed to provide the service doe exactly that kulamba said\",\"murwanashyaka said the charged transport fare will affect worker and passenger who need public transport daily\",\"the move aim to alleviate the financial strain caused by the recent to increase in fare following the government decision to eliminate subsidy\",\"the same go for the driver\",\"in response to these concern rura stated that route not specified in the released list can still be used by public transport operator with price determined by market condition\",\"commuter can now better manage their travel expense fostering a more equitable transport system\",\"view more location to buy or rent a bicycle here\",\"there are many parking place around the city just keep in mind that youll need to pay for parking in most public space\",\"the system which began on december allows commuter to pay only for the distance they travel\",\"you can top the card in the following way visit vendor at the taxi park and bus stop using mtn mobile money by dialing downloading the tapgo app on your phone driving in kigali driving around the city is easy\",\"public transport user in kigali are up in arm over the standard fare operator charge regardless of the destination\",\"according to beata mukangabo head of transport regulation at rura this new fare system is expected to transform public transport in kigali by offering fairer pricing for passenger while streamlining operation for transport service provider\",\"however with the new system this is not allowed and it can lead to conflict when passenger expect u to refund their balance especially when we dont have cash on hand said jean claude nuwayo a driver for kigali bus service\",\"the fluctuating fare have led to a debate on social medium with some accusing rura of increasing the fare yet occupancy in bus increased\",\"he stated zonebased fare is tricky to apply because kigali is small compared with nairobi kampala and dar e salaam where a passenger can travel for over kilometre within the town\",\"the direction of the road to shyorongu can help u with the car because the inhabitant of the city of kigali is a if you do not think of them you will respond\",\"it illegal for a moto to take than one passenger at a time\",\"public transport company official have the mandate to supervise passenger if they are respecting the covid preventive guideline failure to respect the covid preventive guideline is punishable the communiqué read\",\"you can rent one at kairos cycling or kigali ride\",\"journey time vary greatly depending on your final destination\",\"cycling in kigali photo by gura ride cycling is hugely popular in kigali and not just because it cheap\",\"user afrosaxon if traffic is eased up at that sonatubes roundabout production will increase by\",\"the city clean environment extensive footpath and lack of traffic make walking super easy and enjoyable whether youre out for a stroll or walking to work\",\"but how come we didnt get a communique about the inclrease in transport fare like the previous time\",\"both work are available on android device and iphones\",\"kulamba also assured public transport user that the new rate will come with improved service and efficiency in term of customer service but the passenger too must contribute to this effort to continuously develop the public transport sector\",\"the airport is conveniently located a short drive from most neighbourhood and there is a range of option to choose from\",\"walking in kigali walking in kigali is both pleasant and easy\",\"however the rolling hill mean youll need to be fit\",\"all of these can be visited by road\",\"what official say rura stated the route that were not mentioned on the released list any public transport operator company or individual can use them\",\"however according to rwanda utility regulatory authority rura a routebased fare system for all public transport bus in town is the best\",\"there is a need for regulating price on these road so that transport operator comply with them he said\",\"user nganyirend transport is still in trouble with the number of people who can spend time with a halfday awaiting a job that is necessary to read yatsonga nyabugogo rura user mutaganzwapaul however when making decision dont expect to see this mafr a few are user demayo thank you rura for your great work in supporting and valuing customer in transportationi want to raise a concern about cash espency in the evening despite the government push for a cashless\",\"rent a car in kigali there are plenty of company and private individual renting car in kigali\",\"by arafat mugabo more by this author public transport user in kigali are up in arm over the standard fare operator charge regardless of the destination\",\"if you need an extra ride ask the driver to find you a nd or rd ride and travel together\",\"finally if you just want to try out cycling in kigali or you only need a bike for a quick trip across the city gura ride is an excellent bikesharing app that ha launched in kigali\",\"the pilot initiative according to rwanda utility regulatory authority rura seek to promote equity and fairness in public transport fare system\",\"there are over public transport bus in kigali using the system\",\"the official said that new route in the city and across the country will be introduced based on demand to ensure that access to public transport is eased further\",\"he explained that even without the disruption of the covid transport fare would have gone up at some point because every two year the fare are revised\",\"you can start with a nice automatic scooter or go for a full crosscountry road bike\",\"innocent hishamunda another passenger said there should be a scheduled time when a bus should depart\",\"while the new public transport fare will take effect on march a distancebased transport fare system will not be implemented\",\"also read public transport fare to increase after govt scrap subsidy the call to charge public transport fare based on the distance or kilometre used by each passenger follows the government move to eliminate subsidy leading to a price hike of per cent to per cent\",\"all these factor must be considered the cost of operation change in fuel price investment in transport all these must be catered for while considering the cost of transport if you have noticed there have been new bus new route introduced more efficiency and much more all of which a passenger ha to contribute to if we are to have a sustainable public transport system\",\"youll rarely have to walk long to find one\",null],\"marker\":{\"opacity\":0.5,\"size\":5},\"mode\":\"markers+text\",\"name\":\"0_the_in_to\",\"text\":[\"\",\"\",\"\",\"\",\"\",\"\",\"\",\"\",\"\",\"\",\"\",\"\",\"\",\"\",\"\",\"\",\"\",\"\",\"\",\"\",\"\",\"\",\"\",\"\",\"\",\"\",\"\",\"\",\"\",\"\",\"\",\"\",\"\",\"\",\"\",\"\",\"\",\"\",\"\",\"\",\"\",\"\",\"\",\"\",\"\",\"\",\"\",\"\",\"\",\"\",\"\",\"\",\"\",\"\",\"\",\"\",\"\",\"\",\"\",\"\",\"\",\"\",\"\",\"\",\"\",\"\",\"\",\"\",\"\",\"\",\"\",\"\",\"\",\"\",\"\",\"\",\"\",\"\",\"\",\"\",\"\",\"\",\"\",\"\",\"\",\"\",\"\",\"\",\"\",\"\",\"\",\"\",\"\",\"\",\"\",\"\",\"\",\"\",\"\",\"\",\"\",\"\",\"\",\"\",\"\",\"\",\"\",\"\",\"\",\"\",\"\",\"\",\"\",\"\",\"\",\"\",\"\",\"\",\"\",\"\",\"\",\"\",\"\",\"\",\"\",\"\",\"\",\"\",\"\",\"\",\"\",\"\",\"\",\"\",\"\",\"\",\"\",\"\",\"\",\"\",\"\",\"\",\"\",\"\",\"\",\"\",\"\",\"\",\"\",\"\",\"\",\"\",\"\",\"\",\"\",\"\",\"\",\"\",\"\",\"\",\"\",\"\",\"\",\"\",\"\",\"\",\"\",\"\",\"\",\"\",\"\",\"\",\"\",\"\",\"\",\"\",\"\",\"\",\"\",\"\",\"\",\"\",\"\",\"\",\"\",\"\",\"\",\"\",\"\",\"\",\"\",\"\",\"\",\"0_the_in_to\"],\"textfont\":{\"size\":12},\"x\":[7.863877,9.485037,7.7770834,7.4900184,4.748384,7.7602053,7.6109214,9.659544,5.8156323,4.387892,8.599955,5.9987845,5.3333616,5.043924,8.279296,4.7314806,4.7824135,8.606566,9.207935,7.6392446,4.4398193,6.6235228,9.193812,5.829363,7.262979,6.532842,6.5138144,5.0966854,6.8052354,6.5933976,4.8243456,6.86477,8.715453,9.3076725,4.541741,5.789928,7.5739,5.9675207,9.427263,8.206523,4.183011,4.618794,7.1611443,4.9609323,4.516182,5.415561,5.4709992,6.2390246,6.796524,7.227529,6.6619377,5.3727937,9.533994,6.557125,9.366575,9.564549,8.326799,5.9368997,6.6559896,5.3277082,5.100402,4.367969,4.8847976,7.7686377,5.6628146,7.1557527,6.327637,4.1204867,5.4050922,9.344981,6.737779,6.108073,4.8434386,8.892721,7.915006,9.0194,6.7465773,5.841349,4.5634246,7.1829796,9.385861,4.6658106,7.678722,6.1234274,6.239204,6.5124097,8.709171,6.9285736,6.18134,3.9668114,6.70506,6.72739,4.6489015,5.7038417,7.031636,5.7150702,3.9491196,6.4153438,9.530727,6.4551754,9.471133,4.071065,4.002129,5.1686883,9.587444,5.1681576,7.76132,4.4731665,9.336046,7.8014784,8.086801,8.106812,8.616068,9.562728,5.0270634,4.389424,5.209314,9.409465,6.395783,9.332246,4.35433,8.516066,9.344429,5.896955,6.9732494,9.192016,4.3841114,5.172154,7.6939006,9.629667,6.5171914,9.230268,7.718392,9.407259,6.6198845,7.756705,9.305184,4.4478188,9.28403,4.568414,7.682456,9.677604,6.483041,9.310486,7.058496,3.8920374,5.390786,4.9243035,9.352628,4.50245,5.0836983,9.518842,7.3367515,5.879555,8.212245,6.1842628,6.150669,6.1770654,4.579407,6.5116615,7.8527927,9.533835,4.133268,9.327173,7.9047937,9.245863,5.0054646,7.8209844,4.901615,8.4619465,3.9892387,8.425829,7.8350964,9.298082,7.2678103,4.529203,4.5120244,4.973366,4.9028587,8.696658,6.0761976,9.368685,9.319878,4.454853,6.632518,5.018314,4.455344,9.599765,6.5486555,4.9646277,5.2009096,4.834178,7.6444955,6.775763],\"y\":[17.97907,17.542963,17.788664,17.490307,18.585361,17.330524,17.524029,16.735987,18.953928,18.907976,17.413889,19.289246,18.800373,17.454828,18.195002,17.543556,18.45764,17.76786,15.388476,17.61226,17.79828,18.634497,16.382544,17.828463,17.267704,17.974892,17.396208,18.801758,18.11304,17.481506,18.409168,17.649847,15.985938,15.462398,18.8837,18.357502,17.128906,18.889406,17.716028,18.081861,18.716888,17.918276,18.167072,18.296608,17.600365,18.538343,18.567442,18.66942,17.235386,18.107712,17.576797,18.834692,16.943834,18.365767,15.64326,16.796625,18.129337,18.940584,18.448183,17.961336,18.755854,17.95287,19.00027,17.204397,18.62564,18.580027,18.684286,17.956825,18.166067,17.777626,17.150946,18.105204,18.290186,15.063677,18.411425,16.316334,17.277435,19.150896,17.589987,17.420149,16.84604,17.510662,18.254864,18.424374,18.550312,17.464016,18.061726,17.844337,18.490181,17.776136,17.637913,18.367405,17.852772,18.9326,17.81209,18.930208,17.904812,18.354223,17.649004,18.253052,17.19093,18.008846,18.167994,17.65572,17.610817,17.810339,17.113564,18.905218,15.669522,17.11748,17.791603,18.291452,17.807762,17.634428,18.15697,17.524918,17.81685,15.708535,18.408741,15.803764,18.951256,18.22963,16.938185,19.001211,17.663166,15.438062,18.20001,17.80537,17.32324,16.709885,17.971512,15.441665,18.293993,16.409637,18.003847,17.783838,17.272314,18.824299,16.580534,18.68593,18.274956,16.726166,18.485142,15.460351,18.538391,17.761532,18.252012,18.671787,15.567711,18.234089,18.36547,17.666534,17.235966,18.951899,17.53047,18.231169,18.136665,18.466818,18.774605,18.765524,17.71788,16.748672,18.463903,17.791492,16.48335,17.886168,17.964527,17.41043,18.869701,17.359907,17.904037,18.359365,18.187239,16.12753,17.324377,18.137295,17.697046,18.019949,17.478373,18.12302,18.114363,15.72245,17.797804,17.661741,18.131935,18.010323,18.936249,16.960018,17.387623,18.784204,18.649078,18.32678,17.270662,17.795277],\"type\":\"scattergl\"},{\"hoverinfo\":\"text\",\"hovertext\":[\"we noticed a couple of minor issue like some meter were not refunding the unused amount because the system wa not fully installed\",\"then the meter deducts the full fare for the journey you selected a the first step\",\"official assured commuter that these challenge are being addressed and encouraged individual to use their own card to avoid complication\",\"if you need to hold onto anything there are bar below the passenger seat\",\"some passenger have faced difficulty retrieving unused balance when tapping out with rura acknowledging the glitch\",\"when boarding the bus you must first select your journey route say kabugadowntown by tapping the card on the smart meter\",\"if you dont want to haggle the fare the kigali government ha recently introduced mandatory smart metering on mototaxis\",\"not everyone ha a card today and that is a big challenge\",\"the only way it work is when everyone ha their own card and they tap it on the meter when they get on the bus and when they get off\",\"failure to tap out will result in being charged for the full route\",\"more card need to be made available so every commuter can use the system properly he said\",\"to ensure accurate billing passenger will be required to tap their card upon boarding and tap out at the end of their trip\",\"use this to calculator your fare and prepare to haggle\",\"specifically the electronic billing system tap and go card debit a fare equivalent to commuter reaching the final destination\",\"the new system wa also welcomed by driver who would previously have to help passenger tap the card\",\"passenger tap their transport card when boarding and tap out at their destination to calculate the exact fare\",\"the system also introduces a base fee of rwf for cancelled trip discouraging unnecessary card tap and ensuring fairness for all user\",\"unlike the way it wa done the new system will require passenger to tap in when boarding the bus and tap out at the end of the trip\",\"tapgo card to board a bus youll need a tap go card\",\"specifically the electronic billing system tap and go card debit a fare equivalent to commuter reaching the final destination\",null],\"marker\":{\"opacity\":0.5,\"size\":5},\"mode\":\"markers+text\",\"name\":\"1_tap_card_the\",\"text\":[\"\",\"\",\"\",\"\",\"\",\"\",\"\",\"\",\"\",\"\",\"\",\"\",\"\",\"\",\"\",\"\",\"\",\"\",\"\",\"\",\"1_tap_card_the\"],\"textfont\":{\"size\":12},\"x\":[8.169947,8.332528,8.690796,8.244442,7.91452,8.104497,8.479239,8.663979,8.108294,8.038023,8.677462,8.210547,8.456492,8.232721,8.57513,8.217772,8.247408,8.157306,8.136512,8.233603,8.29456],\"y\":[15.579595,15.506649,14.7478485,15.190538,15.429579,15.063788,15.868669,14.804604,14.989273,15.327558,14.79676,15.061004,15.853729,15.096328,14.919125,15.057939,15.08488,15.010401,15.008878,15.082156,15.173964],\"type\":\"scattergl\"},{\"hoverinfo\":\"text\",\"hovertext\":[\"however we immediately resolved that and the rest of the implementation went smoothly\",\"by the inspirer\",\"to complete the process please follow the instruction in the email we just sent you\",\"here how it work\",\"there wa a problem processing your submission\",\"almost finished we need to confirm your email address\",\"almost finished we need to confirm your email address\",\"thank you\",\"there wa a problem processing your submission\",\"so i wrote this guide to help you navigate the various option available\",\"subscribe to our newsletter first name or full name email by continuing you accept the privacy policy\",\"success\",\"to complete the process please follow the instruction in the email we just sent you\",\"success\",\"theinspirerpublicationsgmailcom\",\"use this guide to find the right solution for you and if you have any question ask u in the comment below\",null],\"marker\":{\"opacity\":0.5,\"size\":5},\"mode\":\"markers+text\",\"name\":\"2_email_you_we\",\"text\":[\"\",\"\",\"\",\"\",\"\",\"\",\"\",\"\",\"\",\"\",\"\",\"\",\"\",\"\",\"\",\"\",\"2_email_you_we\"],\"textfont\":{\"size\":12},\"x\":[7.3762245,6.6730986,7.4646525,7.3183727,7.3765974,7.497649,7.4965034,6.8089337,7.3997736,7.2119,7.5011272,6.7209053,7.4895763,6.7228456,7.210718,7.181957,7.2156773],\"y\":[13.798794,13.934382,13.577828,13.4068775,13.466371,13.60956,13.608279,13.754548,13.493449,13.340943,13.61828,13.821581,13.601527,13.819699,13.378724,13.336376,13.597952],\"type\":\"scattergl\"},{\"hoverinfo\":\"text\",\"hovertext\":[\"price usually start from rwf per day\",\"the fare structure is set a follows km rwf km rwf km rwf km rwf km rwf rura and city of kigali staff will be available at bus park and stop to assist passenger and ensure the smooth implementation of the system\",\"price start from per day with excellent discount offered depending on how long you rent for a little a rwf per day\",\"the price of this shuttle is rwf\",\"frw\",\"a kilometre would be at around rwf instead of rwf charged on the routebased fare\",\"we had to spend between rwf going and rwf coming back which is a lot of money\",\"fare between most part of kigali typically cost from rwf\",\"eric maniragaba a worker at the special economic zone said he used to spend rwf from gikondo and rwf to return home in the evening\",\"this wa likely to bring conflict because a passenger would be charged a lot and transport company would not agree to charge rwf per kilometre said mr katabarwa\",\"uwitonze highlighted that saving rwf daily amount to over rwf monthlysignificant for someone earning a modest salary\",\"generally taxi from the airport should cost rwf for the first kilometre and rwf per additional kilometre\",\"an increase of rwf per trip in kigali is a lot of money\",\"according to the communiqué released by rura on wednesday october provincial transport cost to and from kigali city ha also been reduced from rwf to rwf per kilometer while city public passenger cost have been slashed from rwf to rwf per kilometer\",\"there should have been an increase of between rwf and rwf at least\",\"you pay rwf per kilometre\",null],\"marker\":{\"opacity\":0.5,\"size\":5},\"mode\":\"markers+text\",\"name\":\"3_rwf_per_from\",\"text\":[\"\",\"\",\"\",\"\",\"\",\"\",\"\",\"\",\"\",\"\",\"\",\"\",\"\",\"\",\"\",\"\",\"3_rwf_per_from\"],\"textfont\":{\"size\":12},\"x\":[7.74407,7.5799327,7.8626704,7.713895,7.574807,7.612094,7.592171,7.6176767,7.5545588,7.150984,7.6398454,7.765719,7.5141773,7.617051,7.6068606,7.612574,7.609943],\"y\":[19.760517,19.761415,19.427753,19.760714,19.987314,19.832842,19.959635,19.624876,19.865316,19.73828,19.945269,19.703037,19.518827,19.745598,19.98138,19.776817,19.77435],\"type\":\"scattergl\"},{\"hoverinfo\":\"text\",\"hovertext\":[\"user tuyishimegad well done to help u that the tap go map of tap go is immediately reaching out to give me a k new knd that exists trip user nizeyim muzatyatirize and mtn rwanda the problem when sending a frw to borrow them before you put a pin but to show you the cost of it not returning to the crowd user fearlesslegson this is very good for rura and rwanda police mukeur ifreur closing kinkunkes number will be helping a friend with a failure and achips user hakizimanacel where is nyamagabe district\",\"the issue wa also observed on the giticyinyoninzoverutonde route\",\"ligne of nyabugogo graphic although we tell them only two placard and so do not recover and add sign user nzayishima kbx really thing would be saw cyne\",\"desire ndibwami a resident of rusizi district reported the same issue\",\"user kabagae kibaya remera yo naho nahozose remeranyanza user kavararam signed by who\",\"murwanashyaka emphasized the importance of involving citizen in decisionmaking process and consulting civil society organization to address issue that impact the community\",\"user uwizeyealice we are survivor found by kimironko you pay some of the skin of navuy user vedanzam i like the level i miss that im giving\",\"user erranhirwa at karurumas sign to nyabugogo driver who serve them fr ha not been addressed on a tripese traveler to be eaten during the goat of the goat\",\"user girituzem nyamirambo\",\"hope you learned it too user yumireyirizire thank you rurarwanda this wa avery waited change\",\"user frodukatabarwa very good user isisiyaso mutahamune mutiye bus enough which you said would not be available user hapfimbbwishumit oh this really check it because he drive it on the way you go to the card and cut them cg bakanga user dadyankee hi\",null],\"marker\":{\"opacity\":0.5,\"size\":5},\"mode\":\"markers+text\",\"name\":\"4_user_you_the\",\"text\":[\"\",\"\",\"\",\"\",\"\",\"\",\"\",\"\",\"\",\"\",\"\",\"4_user_you_the\"],\"textfont\":{\"size\":12},\"x\":[6.3291674,5.6189537,5.9579635,5.452617,6.177167,5.2923827,6.298692,6.255609,6.1360173,6.255299,6.358906,6.01207],\"y\":[16.136665,16.598871,16.335253,16.313536,16.09891,16.17411,15.932315,16.304287,16.061201,15.987288,16.137798,16.189114],\"type\":\"scattergl\"}],                        {\"template\":{\"data\":{\"barpolar\":[{\"marker\":{\"line\":{\"color\":\"white\",\"width\":0.5},\"pattern\":{\"fillmode\":\"overlay\",\"size\":10,\"solidity\":0.2}},\"type\":\"barpolar\"}],\"bar\":[{\"error_x\":{\"color\":\"rgb(36,36,36)\"},\"error_y\":{\"color\":\"rgb(36,36,36)\"},\"marker\":{\"line\":{\"color\":\"white\",\"width\":0.5},\"pattern\":{\"fillmode\":\"overlay\",\"size\":10,\"solidity\":0.2}},\"type\":\"bar\"}],\"carpet\":[{\"aaxis\":{\"endlinecolor\":\"rgb(36,36,36)\",\"gridcolor\":\"white\",\"linecolor\":\"white\",\"minorgridcolor\":\"white\",\"startlinecolor\":\"rgb(36,36,36)\"},\"baxis\":{\"endlinecolor\":\"rgb(36,36,36)\",\"gridcolor\":\"white\",\"linecolor\":\"white\",\"minorgridcolor\":\"white\",\"startlinecolor\":\"rgb(36,36,36)\"},\"type\":\"carpet\"}],\"choropleth\":[{\"colorbar\":{\"outlinewidth\":1,\"tickcolor\":\"rgb(36,36,36)\",\"ticks\":\"outside\"},\"type\":\"choropleth\"}],\"contourcarpet\":[{\"colorbar\":{\"outlinewidth\":1,\"tickcolor\":\"rgb(36,36,36)\",\"ticks\":\"outside\"},\"type\":\"contourcarpet\"}],\"contour\":[{\"colorbar\":{\"outlinewidth\":1,\"tickcolor\":\"rgb(36,36,36)\",\"ticks\":\"outside\"},\"colorscale\":[[0.0,\"#440154\"],[0.1111111111111111,\"#482878\"],[0.2222222222222222,\"#3e4989\"],[0.3333333333333333,\"#31688e\"],[0.4444444444444444,\"#26828e\"],[0.5555555555555556,\"#1f9e89\"],[0.6666666666666666,\"#35b779\"],[0.7777777777777778,\"#6ece58\"],[0.8888888888888888,\"#b5de2b\"],[1.0,\"#fde725\"]],\"type\":\"contour\"}],\"heatmapgl\":[{\"colorbar\":{\"outlinewidth\":1,\"tickcolor\":\"rgb(36,36,36)\",\"ticks\":\"outside\"},\"colorscale\":[[0.0,\"#440154\"],[0.1111111111111111,\"#482878\"],[0.2222222222222222,\"#3e4989\"],[0.3333333333333333,\"#31688e\"],[0.4444444444444444,\"#26828e\"],[0.5555555555555556,\"#1f9e89\"],[0.6666666666666666,\"#35b779\"],[0.7777777777777778,\"#6ece58\"],[0.8888888888888888,\"#b5de2b\"],[1.0,\"#fde725\"]],\"type\":\"heatmapgl\"}],\"heatmap\":[{\"colorbar\":{\"outlinewidth\":1,\"tickcolor\":\"rgb(36,36,36)\",\"ticks\":\"outside\"},\"colorscale\":[[0.0,\"#440154\"],[0.1111111111111111,\"#482878\"],[0.2222222222222222,\"#3e4989\"],[0.3333333333333333,\"#31688e\"],[0.4444444444444444,\"#26828e\"],[0.5555555555555556,\"#1f9e89\"],[0.6666666666666666,\"#35b779\"],[0.7777777777777778,\"#6ece58\"],[0.8888888888888888,\"#b5de2b\"],[1.0,\"#fde725\"]],\"type\":\"heatmap\"}],\"histogram2dcontour\":[{\"colorbar\":{\"outlinewidth\":1,\"tickcolor\":\"rgb(36,36,36)\",\"ticks\":\"outside\"},\"colorscale\":[[0.0,\"#440154\"],[0.1111111111111111,\"#482878\"],[0.2222222222222222,\"#3e4989\"],[0.3333333333333333,\"#31688e\"],[0.4444444444444444,\"#26828e\"],[0.5555555555555556,\"#1f9e89\"],[0.6666666666666666,\"#35b779\"],[0.7777777777777778,\"#6ece58\"],[0.8888888888888888,\"#b5de2b\"],[1.0,\"#fde725\"]],\"type\":\"histogram2dcontour\"}],\"histogram2d\":[{\"colorbar\":{\"outlinewidth\":1,\"tickcolor\":\"rgb(36,36,36)\",\"ticks\":\"outside\"},\"colorscale\":[[0.0,\"#440154\"],[0.1111111111111111,\"#482878\"],[0.2222222222222222,\"#3e4989\"],[0.3333333333333333,\"#31688e\"],[0.4444444444444444,\"#26828e\"],[0.5555555555555556,\"#1f9e89\"],[0.6666666666666666,\"#35b779\"],[0.7777777777777778,\"#6ece58\"],[0.8888888888888888,\"#b5de2b\"],[1.0,\"#fde725\"]],\"type\":\"histogram2d\"}],\"histogram\":[{\"marker\":{\"line\":{\"color\":\"white\",\"width\":0.6}},\"type\":\"histogram\"}],\"mesh3d\":[{\"colorbar\":{\"outlinewidth\":1,\"tickcolor\":\"rgb(36,36,36)\",\"ticks\":\"outside\"},\"type\":\"mesh3d\"}],\"parcoords\":[{\"line\":{\"colorbar\":{\"outlinewidth\":1,\"tickcolor\":\"rgb(36,36,36)\",\"ticks\":\"outside\"}},\"type\":\"parcoords\"}],\"pie\":[{\"automargin\":true,\"type\":\"pie\"}],\"scatter3d\":[{\"line\":{\"colorbar\":{\"outlinewidth\":1,\"tickcolor\":\"rgb(36,36,36)\",\"ticks\":\"outside\"}},\"marker\":{\"colorbar\":{\"outlinewidth\":1,\"tickcolor\":\"rgb(36,36,36)\",\"ticks\":\"outside\"}},\"type\":\"scatter3d\"}],\"scattercarpet\":[{\"marker\":{\"colorbar\":{\"outlinewidth\":1,\"tickcolor\":\"rgb(36,36,36)\",\"ticks\":\"outside\"}},\"type\":\"scattercarpet\"}],\"scattergeo\":[{\"marker\":{\"colorbar\":{\"outlinewidth\":1,\"tickcolor\":\"rgb(36,36,36)\",\"ticks\":\"outside\"}},\"type\":\"scattergeo\"}],\"scattergl\":[{\"marker\":{\"colorbar\":{\"outlinewidth\":1,\"tickcolor\":\"rgb(36,36,36)\",\"ticks\":\"outside\"}},\"type\":\"scattergl\"}],\"scattermapbox\":[{\"marker\":{\"colorbar\":{\"outlinewidth\":1,\"tickcolor\":\"rgb(36,36,36)\",\"ticks\":\"outside\"}},\"type\":\"scattermapbox\"}],\"scatterpolargl\":[{\"marker\":{\"colorbar\":{\"outlinewidth\":1,\"tickcolor\":\"rgb(36,36,36)\",\"ticks\":\"outside\"}},\"type\":\"scatterpolargl\"}],\"scatterpolar\":[{\"marker\":{\"colorbar\":{\"outlinewidth\":1,\"tickcolor\":\"rgb(36,36,36)\",\"ticks\":\"outside\"}},\"type\":\"scatterpolar\"}],\"scatter\":[{\"fillpattern\":{\"fillmode\":\"overlay\",\"size\":10,\"solidity\":0.2},\"type\":\"scatter\"}],\"scatterternary\":[{\"marker\":{\"colorbar\":{\"outlinewidth\":1,\"tickcolor\":\"rgb(36,36,36)\",\"ticks\":\"outside\"}},\"type\":\"scatterternary\"}],\"surface\":[{\"colorbar\":{\"outlinewidth\":1,\"tickcolor\":\"rgb(36,36,36)\",\"ticks\":\"outside\"},\"colorscale\":[[0.0,\"#440154\"],[0.1111111111111111,\"#482878\"],[0.2222222222222222,\"#3e4989\"],[0.3333333333333333,\"#31688e\"],[0.4444444444444444,\"#26828e\"],[0.5555555555555556,\"#1f9e89\"],[0.6666666666666666,\"#35b779\"],[0.7777777777777778,\"#6ece58\"],[0.8888888888888888,\"#b5de2b\"],[1.0,\"#fde725\"]],\"type\":\"surface\"}],\"table\":[{\"cells\":{\"fill\":{\"color\":\"rgb(237,237,237)\"},\"line\":{\"color\":\"white\"}},\"header\":{\"fill\":{\"color\":\"rgb(217,217,217)\"},\"line\":{\"color\":\"white\"}},\"type\":\"table\"}]},\"layout\":{\"annotationdefaults\":{\"arrowhead\":0,\"arrowwidth\":1},\"autotypenumbers\":\"strict\",\"coloraxis\":{\"colorbar\":{\"outlinewidth\":1,\"tickcolor\":\"rgb(36,36,36)\",\"ticks\":\"outside\"}},\"colorscale\":{\"diverging\":[[0.0,\"rgb(103,0,31)\"],[0.1,\"rgb(178,24,43)\"],[0.2,\"rgb(214,96,77)\"],[0.3,\"rgb(244,165,130)\"],[0.4,\"rgb(253,219,199)\"],[0.5,\"rgb(247,247,247)\"],[0.6,\"rgb(209,229,240)\"],[0.7,\"rgb(146,197,222)\"],[0.8,\"rgb(67,147,195)\"],[0.9,\"rgb(33,102,172)\"],[1.0,\"rgb(5,48,97)\"]],\"sequential\":[[0.0,\"#440154\"],[0.1111111111111111,\"#482878\"],[0.2222222222222222,\"#3e4989\"],[0.3333333333333333,\"#31688e\"],[0.4444444444444444,\"#26828e\"],[0.5555555555555556,\"#1f9e89\"],[0.6666666666666666,\"#35b779\"],[0.7777777777777778,\"#6ece58\"],[0.8888888888888888,\"#b5de2b\"],[1.0,\"#fde725\"]],\"sequentialminus\":[[0.0,\"#440154\"],[0.1111111111111111,\"#482878\"],[0.2222222222222222,\"#3e4989\"],[0.3333333333333333,\"#31688e\"],[0.4444444444444444,\"#26828e\"],[0.5555555555555556,\"#1f9e89\"],[0.6666666666666666,\"#35b779\"],[0.7777777777777778,\"#6ece58\"],[0.8888888888888888,\"#b5de2b\"],[1.0,\"#fde725\"]]},\"colorway\":[\"#1F77B4\",\"#FF7F0E\",\"#2CA02C\",\"#D62728\",\"#9467BD\",\"#8C564B\",\"#E377C2\",\"#7F7F7F\",\"#BCBD22\",\"#17BECF\"],\"font\":{\"color\":\"rgb(36,36,36)\"},\"geo\":{\"bgcolor\":\"white\",\"lakecolor\":\"white\",\"landcolor\":\"white\",\"showlakes\":true,\"showland\":true,\"subunitcolor\":\"white\"},\"hoverlabel\":{\"align\":\"left\"},\"hovermode\":\"closest\",\"mapbox\":{\"style\":\"light\"},\"paper_bgcolor\":\"white\",\"plot_bgcolor\":\"white\",\"polar\":{\"angularaxis\":{\"gridcolor\":\"rgb(232,232,232)\",\"linecolor\":\"rgb(36,36,36)\",\"showgrid\":false,\"showline\":true,\"ticks\":\"outside\"},\"bgcolor\":\"white\",\"radialaxis\":{\"gridcolor\":\"rgb(232,232,232)\",\"linecolor\":\"rgb(36,36,36)\",\"showgrid\":false,\"showline\":true,\"ticks\":\"outside\"}},\"scene\":{\"xaxis\":{\"backgroundcolor\":\"white\",\"gridcolor\":\"rgb(232,232,232)\",\"gridwidth\":2,\"linecolor\":\"rgb(36,36,36)\",\"showbackground\":true,\"showgrid\":false,\"showline\":true,\"ticks\":\"outside\",\"zeroline\":false,\"zerolinecolor\":\"rgb(36,36,36)\"},\"yaxis\":{\"backgroundcolor\":\"white\",\"gridcolor\":\"rgb(232,232,232)\",\"gridwidth\":2,\"linecolor\":\"rgb(36,36,36)\",\"showbackground\":true,\"showgrid\":false,\"showline\":true,\"ticks\":\"outside\",\"zeroline\":false,\"zerolinecolor\":\"rgb(36,36,36)\"},\"zaxis\":{\"backgroundcolor\":\"white\",\"gridcolor\":\"rgb(232,232,232)\",\"gridwidth\":2,\"linecolor\":\"rgb(36,36,36)\",\"showbackground\":true,\"showgrid\":false,\"showline\":true,\"ticks\":\"outside\",\"zeroline\":false,\"zerolinecolor\":\"rgb(36,36,36)\"}},\"shapedefaults\":{\"fillcolor\":\"black\",\"line\":{\"width\":0},\"opacity\":0.3},\"ternary\":{\"aaxis\":{\"gridcolor\":\"rgb(232,232,232)\",\"linecolor\":\"rgb(36,36,36)\",\"showgrid\":false,\"showline\":true,\"ticks\":\"outside\"},\"baxis\":{\"gridcolor\":\"rgb(232,232,232)\",\"linecolor\":\"rgb(36,36,36)\",\"showgrid\":false,\"showline\":true,\"ticks\":\"outside\"},\"bgcolor\":\"white\",\"caxis\":{\"gridcolor\":\"rgb(232,232,232)\",\"linecolor\":\"rgb(36,36,36)\",\"showgrid\":false,\"showline\":true,\"ticks\":\"outside\"}},\"title\":{\"x\":0.05},\"xaxis\":{\"automargin\":true,\"gridcolor\":\"rgb(232,232,232)\",\"linecolor\":\"rgb(36,36,36)\",\"showgrid\":false,\"showline\":true,\"ticks\":\"outside\",\"title\":{\"standoff\":15},\"zeroline\":false,\"zerolinecolor\":\"rgb(36,36,36)\"},\"yaxis\":{\"automargin\":true,\"gridcolor\":\"rgb(232,232,232)\",\"linecolor\":\"rgb(36,36,36)\",\"showgrid\":false,\"showline\":true,\"ticks\":\"outside\",\"title\":{\"standoff\":15},\"zeroline\":false,\"zerolinecolor\":\"rgb(36,36,36)\"}}},\"shapes\":[{\"line\":{\"color\":\"#CFD8DC\",\"width\":2},\"type\":\"line\",\"x0\":1.9368530869483944,\"x1\":1.9368530869483944,\"y0\":7.278630018234253,\"y1\":22.985411357879638},{\"line\":{\"color\":\"#9E9E9E\",\"width\":2},\"type\":\"line\",\"x0\":-7.255538105964661,\"x1\":11.12924427986145,\"y0\":15.132020688056945,\"y1\":15.132020688056945}],\"annotations\":[{\"showarrow\":false,\"text\":\"D1\",\"x\":-7.255538105964661,\"y\":15.132020688056945,\"yshift\":10},{\"showarrow\":false,\"text\":\"D2\",\"x\":1.9368530869483944,\"xshift\":10,\"y\":22.985411357879638}],\"title\":{\"font\":{\"size\":22,\"color\":\"Black\"},\"text\":\"\\u003cb\\u003eDocuments and Topics\\u003c\\u002fb\\u003e\",\"x\":0.5,\"xanchor\":\"center\",\"yanchor\":\"top\"},\"width\":1200,\"height\":750,\"xaxis\":{\"visible\":false},\"yaxis\":{\"visible\":false}},                        {\"responsive\": true}                    ).then(function(){\n                            \nvar gd = document.getElementById('1a0e1eaa-ffea-491e-b6cd-cbb21dcb9d7a');\nvar x = new MutationObserver(function (mutations, observer) {{\n        var display = window.getComputedStyle(gd).display;\n        if (!display || display === 'none') {{\n            console.log([gd, 'removed!']);\n            Plotly.purge(gd);\n            observer.disconnect();\n        }}\n}});\n\n// Listen for the removal of the full notebook cells\nvar notebookContainer = gd.closest('#notebook-container');\nif (notebookContainer) {{\n    x.observe(notebookContainer, {childList: true});\n}}\n\n// Listen for the clearing of the current output cell\nvar outputEl = gd.closest('.output');\nif (outputEl) {{\n    x.observe(outputEl, {childList: true});\n}}\n\n                        })                };                            </script>        </div>\n</body>\n</html>"
          },
          "metadata": {}
        }
      ],
      "execution_count": null
    },
    {
      "cell_type": "markdown",
      "source": [
        "The topics are represented as centroids in different clusters (characterized by different colors), just to show that BERT extracted the most relevant information."
      ],
      "metadata": {
        "id": "SGqkjVugnPsg"
      }
    },
    {
      "cell_type": "markdown",
      "source": [
        "Now we can search topics"
      ],
      "metadata": {
        "id": "web69GainPsg"
      }
    },
    {
      "cell_type": "code",
      "source": [
        "# Select most 3 similar topics\n",
        "similar_topics, similarity = topic_model.find_topics(\"fare\", top_n = 3)"
      ],
      "metadata": {
        "trusted": true,
        "execution": {
          "iopub.status.busy": "2025-05-18T22:27:10.108996Z",
          "iopub.execute_input": "2025-05-18T22:27:10.110023Z",
          "iopub.status.idle": "2025-05-18T22:27:10.131485Z",
          "shell.execute_reply.started": "2025-05-18T22:27:10.109989Z",
          "shell.execute_reply": "2025-05-18T22:27:10.130626Z"
        },
        "id": "XJ07dj6pnPsh"
      },
      "outputs": [],
      "execution_count": null
    },
    {
      "cell_type": "code",
      "source": [
        "# topics index from most similar to least similar.\n",
        "similar_topics"
      ],
      "metadata": {
        "trusted": true,
        "execution": {
          "iopub.status.busy": "2025-05-18T22:27:31.543827Z",
          "iopub.execute_input": "2025-05-18T22:27:31.544359Z",
          "iopub.status.idle": "2025-05-18T22:27:31.550363Z",
          "shell.execute_reply.started": "2025-05-18T22:27:31.544333Z",
          "shell.execute_reply": "2025-05-18T22:27:31.549494Z"
        },
        "id": "hsrrtzOqnPsh",
        "outputId": "f4d53a31-532c-4bff-a9f5-d2b9c8ef8e1d"
      },
      "outputs": [
        {
          "execution_count": 22,
          "output_type": "execute_result",
          "data": {
            "text/plain": "[-1, 0, 1]"
          },
          "metadata": {}
        }
      ],
      "execution_count": null
    },
    {
      "cell_type": "code",
      "source": [
        "most_similar = similar_topics[0]\n",
        "print(\"Most Similar Topic Info: \\n{}\".format(topic_model.get_topic(most_similar)))\n",
        "print(\"Similarity Score: {}\".format(similarity[0]))"
      ],
      "metadata": {
        "trusted": true,
        "execution": {
          "iopub.status.busy": "2025-05-18T22:28:07.384648Z",
          "iopub.execute_input": "2025-05-18T22:28:07.385011Z",
          "iopub.status.idle": "2025-05-18T22:28:07.391263Z",
          "shell.execute_reply.started": "2025-05-18T22:28:07.384989Z",
          "shell.execute_reply": "2025-05-18T22:28:07.389995Z"
        },
        "id": "72AFc9LvnPsh",
        "outputId": "1c9065a9-00ab-4cf1-f0a7-3d14af827f92"
      },
      "outputs": [
        {
          "name": "stdout",
          "text": "Most Similar Topic Info: \n[('to', 0.08412295571086012), ('the', 0.07439556080312539), ('and', 0.05361701253519879), ('it', 0.0467694552004219), ('they', 0.040312328019012536), ('is', 0.04000483225817386), ('of', 0.03875698113956234), ('on', 0.03561797656388653), ('system', 0.03359262191420848), ('will', 0.032257193430226816)]\nSimilarity Score: 0.479356586933136\n",
          "output_type": "stream"
        }
      ],
      "execution_count": null
    },
    {
      "cell_type": "markdown",
      "source": [
        "We searched for the top 3 topics that are semantically similar to \"fare\" using the find_topics function. We can see that the most similar topic is showing term 'system', which is related to fare."
      ],
      "metadata": {
        "id": "mer0L4iInPsh"
      }
    },
    {
      "cell_type": "code",
      "source": [
        "similar_topics_2, similarity_2 = topic_model.find_topics(\"price\", top_n = 3)\n",
        "most_similar_2 = similar_topics_2[0]\n",
        "print(\"Most Similar Topic Info: \\n{}\".format(topic_model.get_topic(most_similar_2)))\n",
        "print(\"Similarity Score: {}\".format(similarity_2[0]))"
      ],
      "metadata": {
        "trusted": true,
        "execution": {
          "iopub.status.busy": "2025-05-18T22:32:43.893664Z",
          "iopub.execute_input": "2025-05-18T22:32:43.894091Z",
          "iopub.status.idle": "2025-05-18T22:32:43.91652Z",
          "shell.execute_reply.started": "2025-05-18T22:32:43.894057Z",
          "shell.execute_reply": "2025-05-18T22:32:43.915827Z"
        },
        "id": "k8hRzuYcnPsh",
        "outputId": "2431db55-fcae-4796-f1a6-428d1ae1d937"
      },
      "outputs": [
        {
          "name": "stdout",
          "text": "Most Similar Topic Info: \n[('rwf', 0.37044403755291366), ('per', 0.14894448775284982), ('from', 0.09908034879695361), ('km', 0.09543129415480055), ('kilometre', 0.08433496504692947), ('of', 0.07695695769486995), ('to', 0.06805207836880352), ('and', 0.06742685561622047), ('cost', 0.05951157330304514), ('lot', 0.05556276970346228)]\nSimilarity Score: 0.4239168167114258\n",
          "output_type": "stream"
        }
      ],
      "execution_count": null
    },
    {
      "cell_type": "markdown",
      "source": [
        "Here, we searched for the top 3 topics that are semantically similar to \"price\". We can see that the most similar topic is showing terms like 'rwf', \"kilometer\", \"cost\", which are indeed related to \"price\"."
      ],
      "metadata": {
        "id": "5GqubtSunPsh"
      }
    },
    {
      "cell_type": "markdown",
      "source": [
        "In conclusion, the goal of our topic modeling was to uncover the main themes in public reactions to Rwanda's shift to distance-based public transport fares. Diverse public opinions regarding the fare reform were found through topic modeling.  Although many praised the new system's fairness and modernism, serious issues with price and fare structure confusion still exist.  To increase public pleasure and trust, these insights can direct future policy changes and communication tactics."
      ],
      "metadata": {
        "id": "X7UKRblvnPsh"
      }
    },
    {
      "cell_type": "code",
      "source": [],
      "metadata": {
        "trusted": true,
        "id": "4KUKUs7BnPsi"
      },
      "outputs": [],
      "execution_count": null
    }
  ]
}